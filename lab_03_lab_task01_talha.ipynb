{
  "cells": [
    {
      "cell_type": "markdown",
      "metadata": {
        "id": "view-in-github",
        "colab_type": "text"
      },
      "source": [
        "<a href=\"https://colab.research.google.com/github/TalhaAzeem38302/TalhaAzeem38302/blob/main/lab_03_lab_task01_talha.ipynb\" target=\"_parent\"><img src=\"https://colab.research.google.com/assets/colab-badge.svg\" alt=\"Open In Colab\"/></a>"
      ]
    },
    {
      "cell_type": "code",
      "execution_count": null,
      "id": "e5eb83d8",
      "metadata": {
        "id": "e5eb83d8"
      },
      "outputs": [],
      "source": [
        "#Talha Azeem\n",
        "#LAB03 Task\n",
        "class Node:\n",
        "    \n",
        "    def __init__(self, state, parent, actions, totalCost):\n",
        "        self.state = state\n",
        "        self.parent = parent\n",
        "        self.actions = actions\n",
        "        self.totalCost = totalCost\n",
        "        "
      ]
    },
    {
      "cell_type": "code",
      "execution_count": null,
      "id": "aa0463a7",
      "metadata": {
        "id": "aa0463a7"
      },
      "outputs": [],
      "source": [
        "graph = {'Oradea':         Node('Oradea',         None,['Zerind','Sibiu'], [71,151]),\n",
        "         'Zerind':         Node('Zerind',         None,['Arad'], [75]),\n",
        "         'Arad':           Node('Arad',           None,['Sibiu','Timisoara'], [140,118]),\n",
        "         'Timisoara':      Node('Timisoara',      None,['Lugoj'], [111]),\n",
        "         'Sibiu':          Node('Sibiu',          None,['Rimnieu Vilcea','Fagaras'], [80,99]),\n",
        "         'Lugoj':          Node('Lugoj',          None,['Mehadia'], [70]),\n",
        "         'Rimnieu Vilcea': Node('Rimnieu Vilcea', None,['Pitesti'], [97]),\n",
        "         'Fagaras':        Node('Fagaras',        None,['Bucharest'],[211])}"
      ]
    },
    {
      "cell_type": "code",
      "execution_count": null,
      "id": "47488df5",
      "metadata": {
        "id": "47488df5"
      },
      "outputs": [],
      "source": [
        "def BFS():\n",
        "    initialState ='Oradea'\n",
        "    goalState = 'Lugoj'\n",
        "    \n",
        "    \n",
        "    graph = {'Oradea':         Node('Oradea',         None,['Zerind','Sibiu'], [71,151]),\n",
        "         'Zerind':         Node('Zerind',         None,['Arad'], [75]),\n",
        "         'Arad':           Node('Arad',           None,['Sibiu','Timisoara'], [140,118]),\n",
        "         'Timisoara':      Node('Timisoara',      None,['Lugoj'], [111]),\n",
        "         'Sibiu':          Node('Sibiu',          None,['Rimnieu Vilcea','Fagaras'], [80,99]),\n",
        "         'Lugoj':          Node('Lugoj',          None,['Mehadia'], [70]),\n",
        "         'Rimnieu Vilcea': Node('Rimnieu Vilcea', None,['Zerind'], [97]),\n",
        "         'Fagaras':        Node('Fagaras',        None,['Sibiu'],[211])}\n",
        "    frontier = [initialState]\n",
        "    explored = []\n",
        "    while len(frontier)!=0:\n",
        "        currentNode = frontier.pop(0)\n",
        "        explored.append(currentNode)\n",
        "        for child in graph[currentNode].actions:\n",
        "            if child not in frontier and child not in explored:\n",
        "                graph[child].parent=currentNode\n",
        "                if graph[child].state==goalState:\n",
        "                    return actionSequence(graph, initialState, goalState)\n",
        "            frontier.append(child)\n"
      ]
    },
    {
      "cell_type": "code",
      "execution_count": null,
      "id": "394e361a",
      "metadata": {
        "id": "394e361a"
      },
      "outputs": [],
      "source": [
        "def actionSequence(graph, initialState, goalState):\n",
        "    \n",
        "        solution=[goalState]\n",
        "        currentParent=graph[goalState].parent\n",
        "        while currentParent!= None:\n",
        "            solution.append(currentParent)\n",
        "            currentParent = graph[currentParent].parent\n",
        "        solution.reverse()\n",
        "        return solution"
      ]
    },
    {
      "cell_type": "code",
      "execution_count": null,
      "id": "62479dd5",
      "metadata": {
        "id": "62479dd5",
        "outputId": "1b81ed46-c464-4f56-bce8-149662e207c6"
      },
      "outputs": [
        {
          "name": "stdout",
          "output_type": "stream",
          "text": [
            "['Oradea', 'Zerind', 'Arad', 'Timisoara', 'Lugoj']\n"
          ]
        }
      ],
      "source": [
        "solution = BFS()\n",
        "print(solution)"
      ]
    },
    {
      "cell_type": "code",
      "execution_count": null,
      "id": "dd083053",
      "metadata": {
        "id": "dd083053"
      },
      "outputs": [],
      "source": []
    }
  ],
  "metadata": {
    "kernelspec": {
      "display_name": "Python 3 (ipykernel)",
      "language": "python",
      "name": "python3"
    },
    "language_info": {
      "codemirror_mode": {
        "name": "ipython",
        "version": 3
      },
      "file_extension": ".py",
      "mimetype": "text/x-python",
      "name": "python",
      "nbconvert_exporter": "python",
      "pygments_lexer": "ipython3",
      "version": "3.9.7"
    },
    "colab": {
      "provenance": [],
      "include_colab_link": true
    }
  },
  "nbformat": 4,
  "nbformat_minor": 5
}