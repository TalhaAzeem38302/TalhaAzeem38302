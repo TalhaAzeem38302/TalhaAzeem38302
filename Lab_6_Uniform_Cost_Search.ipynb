{
  "nbformat": 4,
  "nbformat_minor": 0,
  "metadata": {
    "colab": {
      "provenance": [],
      "collapsed_sections": [],
      "authorship_tag": "ABX9TyOP+QS6UPSn2PWEUFYKu2VU",
      "include_colab_link": true
    },
    "kernelspec": {
      "name": "python3",
      "display_name": "Python 3"
    },
    "language_info": {
      "name": "python"
    }
  },
  "cells": [
    {
      "cell_type": "markdown",
      "metadata": {
        "id": "view-in-github",
        "colab_type": "text"
      },
      "source": [
        "<a href=\"https://colab.research.google.com/github/muaazshoaib/artificial_intelligence_lab/blob/main/Lab_6_Uniform_Cost_Search.ipynb\" target=\"_parent\"><img src=\"https://colab.research.google.com/assets/colab-badge.svg\" alt=\"Open In Colab\"/></a>"
      ]
    },
    {
      "cell_type": "markdown",
      "source": [
        "## Uniform Cost Search"
      ],
      "metadata": {
        "id": "CkGG6ZEXC10P"
      }
    },
    {
      "cell_type": "code",
      "source": [
        "class Node:\n",
        "  def __init__(self, state, parent, actions, totalCost):\n",
        "    self.state = state\n",
        "    self.parent = parent\n",
        "    self.actions = actions\n",
        "    self.totalCost = totalCost"
      ],
      "metadata": {
        "id": "0foR0PImC6Im"
      },
      "execution_count": 8,
      "outputs": []
    },
    {
      "cell_type": "code",
      "source": [
        "import math \n",
        "\n",
        "def findMin(frontier):\n",
        "  minV = math.inf\n",
        "  node = ''\n",
        "  for i in frontier:\n",
        "    if minV > frontier[i][1]:\n",
        "      minV = frontier[i][1]\n",
        "      node = 1\n",
        "  return node"
      ],
      "metadata": {
        "id": "aTPPv0aCC8Vb"
      },
      "execution_count": 9,
      "outputs": []
    },
    {
      "cell_type": "code",
      "source": [
        "def actionSequence(graph, initialState, goalState):\n",
        "  solution = [goalState]\n",
        "  currentParent = graph[goalState].parent\n",
        "  while currentParent != None:\n",
        "    solution.append(currentParent)\n",
        "    currentParent = graph[currentParent].parent\n",
        "  solution.reverse()\n",
        "  return solution  "
      ],
      "metadata": {
        "id": "PCQt-hVgC-8R"
      },
      "execution_count": 10,
      "outputs": []
    },
    {
      "cell_type": "code",
      "source": [
        "def UniformCostSearch(graph, initialState, goalState):\n",
        "\n",
        "  frontier = dict()\n",
        "  frontier = [initialState]\n",
        "  explored = []\n",
        "\n",
        "  while len(frontier) != 0:\n",
        "    currentNode = findMin(frontier)\n",
        "    del frontier[currentNode]\n",
        "    if graph[currentNode].state == goalState:\n",
        "      return actionSequence(graph, initialState, goalState)\n",
        "    explored.append(currentNode)\n",
        "    for child in graph[currentNode].actions:\n",
        "      currentCost = child[1] + graph[currentNode].totalCost\n",
        "      if child[0] not in frontier and child[0] not in explored:\n",
        "        graph[child[0]].parent = currentNode\n",
        "        graph[child[0]].totalCost = currentCost\n",
        "        frontier[child[0]] = (graph[child[0]].parent, graph[child[0]].totalCost) \n",
        "      elif child[0] in frontier:\n",
        "        if frontier[child[0]][1] < currentCost:\n",
        "          graph[child[0]].parent = frontier[child[0]][0] \n",
        "          graph[child[0]].totalCost = frontier[child[0]][1]\n",
        "        else:\n",
        "          frontier[child[0]] = (currentNode, currentCost)\n",
        "          graph[child[0]].parent = frontier[child[0]][0]\n",
        "          graph[child[0]].totalCost = frontier[child[0]][1]   "
      ],
      "metadata": {
        "id": "bcWbu-sXDH2A"
      },
      "execution_count": 11,
      "outputs": []
    },
    {
      "cell_type": "markdown",
      "source": [
        "### Activity 1\n",
        "Imagine the same tree but this time we also mention the cost of each edge."
      ],
      "metadata": {
        "id": "lCsxOKqUrqv8"
      }
    },
    {
      "cell_type": "code",
      "source": [
        "GRAPH = {\n",
        "    'A': Node('A', None, [('B', 6), ('C', 9), ('E', 1)], 0),\n",
        "    'B': Node('B', None, [('A', 6), ('D', 3), ('E', 4)], 0),\n",
        "    'C': Node('C', None, [('A', 9), ('F', 2), ('G', 3)], 0),\n",
        "    'D': Node('D', None, [('B', 3), ('E', 5), ('F', 7)], 0),\n",
        "    'E': Node('E', None, [('A', 1), ('B', 4), ('D', 5), ('F', 6)], 0),\n",
        "    'F': Node('F', None, [('C', 2), ('E', 6), ('D', 7)], 0),\n",
        "    'G': Node('G', None, [('C', 3)], 0),\n",
        "         }\n",
        "\n",
        "INITIAL_STATE = 'C' \n",
        "GOAL_STATE = 'B'        "
      ],
      "metadata": {
        "id": "mtgKDRtYsts9"
      },
      "execution_count": 12,
      "outputs": []
    },
    {
      "cell_type": "code",
      "source": [
        "solution = UniformCostSearch(graph=GRAPH,\n",
        "                             initialState=INITIAL_STATE,\n",
        "                             goalState=GOAL_STATE)"
      ],
      "metadata": {
        "id": "tSekp6f0H2BX"
      },
      "execution_count": null,
      "outputs": []
    },
    {
      "cell_type": "markdown",
      "source": [
        "### Lab task 1\n",
        "Imagine going from Arad to Bucharest in the following map. Your goal is to minimize the distance mentioned in the map during your travel. Implement a uniform cost search to find the corresponding\n",
        "path."
      ],
      "metadata": {
        "id": "wgKBwgGG7j2S"
      }
    },
    {
      "cell_type": "code",
      "source": [
        "GRAPH = {\n",
        "    'Oradea' : Node('Oradea',None,['Zerind','Sibiu'],[71,151] ),\n",
        "    'Zerind' : Node('Zerind',None,['Arad', 'Oradea'],[75,71 ]),\n",
        "    'Arad' : Node('Arad',None,['Zerind','Timisoara','Sibiu'],[75,118,140] ),\n",
        "    'Sibiu' : Node('Sibiu',None,['Fagaras','Rimnicu Vilcea','Oradea','Arad'],[99,80,151,140] ),\n",
        "    'Fagaras' : Node('Fagaras',None,['Sibiu','Bucharest'],[99,211] ),\n",
        "    'Bucharest' : Node('Bucharest',None,['Fagaras','Pitesti','Urziceni','Giurgiu'],[211,101,85,90] ),\n",
        "    'Pitesti' : Node('Pitesti',None,['Rimnicu Vilcea','Bucharest','Craiova'],[97,101,138] ),\n",
        "    'Urziceni' : Node('Urziceni',None,['Bucharest','Hirsova','Vaslui'],[85,98,142] ),\n",
        "    'Hirsova' : Node('Hirsova',None,['Urziceni','Eforie'],[98,86] ),\n",
        "    'Timisoara':Node('Timisoara',None,['Lugoj','Arad'],[111,118]),\n",
        "    'Lugoj':Node('Lugoj',None,['Mehadia','Timisoara'],[70,111]),\n",
        "    'Mehadia':Node('Mehadia',None,['Drobeta','Lugoj'],[75,70]),\n",
        "    'Rimnicu Vilcea':Node('Rimnicu Vilcea',None,['Sibiu','Pitesti'],[70,111]),\n",
        "    'Drobeta' : Node('Drobeta',None,['Craiova','Mehadia'],[120,75] ),\n",
        "    'Craiova' : Node('Craiova',None,['Pitesti','Rimnicu Vilcea'],[138,146] ),\n",
        "    'Eforie' : Node('Eforie',None,['Hirsova'],[86] ),\n",
        "    'Vaslui' : Node('Vaslui',None,['Urziceni','Iasi'],[142,92] ),\n",
        "    'Iasi' : Node('Iasi',None,['Vaslui','Neamt'],[92,87] ),\n",
        "    'Giurgiu' : Node('Giurgiu',None,[],[]),\n",
        "    'Neamt' : Node('Neamt',None,[],[] )\n",
        "    }\n",
        "\n",
        "INITIAL_STATE = 'Arad' \n",
        "GOAL_STATE = 'Neamt'        "
      ],
      "metadata": {
        "id": "1JBbHxT7H8I0"
      },
      "execution_count": null,
      "outputs": []
    },
    {
      "cell_type": "code",
      "source": [
        "solution = UniformCostSearch(graph=GRAPH,\n",
        "                             initialState=INITIAL_STATE,\n",
        "                             goalState=GOAL_STATE)"
      ],
      "metadata": {
        "id": "7p18WIB1ImPV"
      },
      "execution_count": null,
      "outputs": []
    },
    {
      "cell_type": "code",
      "source": [],
      "metadata": {
        "id": "eJ-dZ8BHIqC0"
      },
      "execution_count": null,
      "outputs": []
    }
  ]
}