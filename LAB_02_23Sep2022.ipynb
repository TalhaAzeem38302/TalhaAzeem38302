{
  "cells": [
    {
      "cell_type": "markdown",
      "metadata": {
        "id": "view-in-github",
        "colab_type": "text"
      },
      "source": [
        "<a href=\"https://colab.research.google.com/github/TalhaAzeem38302/TalhaAzeem38302/blob/main/LAB_02_23Sep2022.ipynb\" target=\"_parent\"><img src=\"https://colab.research.google.com/assets/colab-badge.svg\" alt=\"Open In Colab\"/></a>"
      ]
    },
    {
      "cell_type": "code",
      "execution_count": null,
      "id": "d0267ff7",
      "metadata": {
        "id": "d0267ff7",
        "outputId": "6be1138c-e0cc-40bd-e01e-7e920a2f090d"
      },
      "outputs": [
        {
          "name": "stdout",
          "output_type": "stream",
          "text": [
            "Enter Object Of First List: \n",
            "Enter a value: 7\n",
            "Enter a value: 8\n",
            "Enter a value: 9\n",
            "Enter a value: 6\n",
            "Enter a value: 54\n",
            "Enter object of second list: \n",
            "Enter a value: 4\n",
            "Enter a value: 1\n",
            "Enter a value: 2\n",
            "Enter a value: 3\n",
            "Enter a value: 4\n",
            "[7, 8, 9, 6, 54, 4, 1, 2, 3, 4]\n"
          ]
        }
      ],
      "source": [
        "#Activity 1\n",
        "myList1=[]\n",
        "print (\"Enter Object Of First List: \")\n",
        "for i in range (5):\n",
        "    val=input(\"Enter a value: \")\n",
        "    n=int(val)\n",
        "    myList1.append(n)\n",
        "    \n",
        "myList2=[]\n",
        "print (\"Enter object of second list: \")\n",
        "for i in range (5):\n",
        "    val=input(\"Enter a value: \")\n",
        "    n=int(val)\n",
        "    myList2.append(n)\n",
        "    \n",
        "list3=myList1+myList2;\n",
        "print(list3)\n"
      ]
    },
    {
      "cell_type": "code",
      "execution_count": null,
      "id": "ff4d012a",
      "metadata": {
        "id": "ff4d012a",
        "outputId": "e85bc35f-2dfb-485e-e7e2-04cad8aeb3e1"
      },
      "outputs": [
        {
          "name": "stdout",
          "output_type": "stream",
          "text": [
            "True\n"
          ]
        }
      ],
      "source": [
        "#Activity 2\n",
        "#Palindrome\n",
        "def isPalindrome(word):\n",
        "    temp=word[::-1]\n",
        "    if temp.capitalize()==word.capitalize():\n",
        "        return True\n",
        "    else:\n",
        "        return False\n",
        "print(isPalindrome(\"ADA\"))"
      ]
    },
    {
      "cell_type": "code",
      "execution_count": null,
      "id": "d7dbec66",
      "metadata": {
        "id": "d7dbec66",
        "outputId": "a8eaab49-5dfd-4ee7-cfea-2a0f3174caa2"
      },
      "outputs": [
        {
          "name": "stdout",
          "output_type": "stream",
          "text": [
            "C= [[1, 4, 7], [2, 5, 8], [3, 6, 9]]\n"
          ]
        }
      ],
      "source": [
        "#Activity 3\n",
        "#Matrix\n",
        "a = [[1, 0, 0], [0, 1, 0], [0, 0, 1] ]\n",
        "b = [[1, 2, 3], [4, 5, 6], [7, 8, 9] ]\n",
        "c = []\n",
        "for indrow in range (3):\n",
        "    c.append ([])\n",
        "    for indcol in range (3):\n",
        "        c[indrow].append(0)\n",
        "        for indaux in range (3):\n",
        "            c[indrow][indcol] += a[indrow][indaux] * b[indcol][indrow]\n",
        "            \n",
        "print (\"C=\", c)"
      ]
    },
    {
      "cell_type": "code",
      "execution_count": null,
      "id": "dbba3a9f",
      "metadata": {
        "id": "dbba3a9f",
        "outputId": "2b872efc-001d-4fe0-b6d5-7c200f420c18"
      },
      "outputs": [
        {
          "name": "stdout",
          "output_type": "stream",
          "text": [
            "(10.337602083032866+1.7320508075688772j)\n"
          ]
        }
      ],
      "source": [
        "#Activity 4\n",
        "\n",
        "def perimeter(listing):\n",
        "    length=len(listing)\n",
        "    perimeter=0;\n",
        "    for i in range(0,length-1):\n",
        "        dist = ((listing[i][0]-listing[i+1][0]**2)+\n",
        "                ((listing[i][1]-listing[i+1][1])**2))**0.5\n",
        "        perimeter = perimeter+dist\n",
        "    perimeter = perimeter + ((listing[0][0]-listing[length-1][0]**2)+\n",
        "                            ((listing[0][1]-listing[length-1][1])**2))**0.5\n",
        "                             \n",
        "    return perimeter\n",
        "L = [(1,3),(2,7),(3,9),(-1,8)]\n",
        "print(perimeter(L))"
      ]
    },
    {
      "cell_type": "code",
      "execution_count": null,
      "id": "39e85560",
      "metadata": {
        "id": "39e85560",
        "outputId": "52861c07-ed92-45fd-898a-e96b89f15159"
      },
      "outputs": [
        {
          "name": "stdout",
          "output_type": "stream",
          "text": [
            "{0, 1, 2, 3, 4, 5, 6, 7, 8, 9, 10, 11}\n",
            "{0, 1, 2, 3, 4, 5, 6, 7, 8, 9, 10, 11}\n",
            "{0, 1, 2, 3, 4, 5, 6, 7, 8, 9, 10, 11}\n",
            "{0, 1, 2, 3, 4, 5, 6, 7, 8, 9, 10, 11}\n",
            "{0, 1, 2, 3, 4, 5, 6, 7, 8, 9, 10, 11}\n"
          ]
        }
      ],
      "source": [
        "#Activity 5\n",
        "def symmDiff (a,b):\n",
        "    e=set()\n",
        "    for i in a:\n",
        "        if i not in b:\n",
        "            e.add(i)\n",
        "    for i in b:\n",
        "        if i not in a:\n",
        "            e.add(i)\n",
        "    return e\n",
        "\n",
        "set1={0,1,2,3,4,5}\n",
        "set2={6,7,8,9,10,11}\n",
        "print(symmDiff(set1,set2))\n",
        "\n",
        "print(set1.symmetric_difference(set2))\n",
        "print(set2.symmetric_difference(set1))\n",
        "print(set1^set2)\n",
        "print(set2^set1)"
      ]
    },
    {
      "cell_type": "code",
      "execution_count": null,
      "id": "668ea4f8",
      "metadata": {
        "id": "668ea4f8",
        "outputId": "6fee7217-9fb2-4c2b-c7a4-3c30bcd1d4c3"
      },
      "outputs": [
        {
          "name": "stdout",
          "output_type": "stream",
          "text": [
            "Enter First NameTalha\n",
            "Enter Last NameAzeem\n",
            "03211664170\n"
          ]
        }
      ],
      "source": [
        "#Activity 6\n",
        "sample={(\"Talha\",\"Azeem\"):\"03211664170\",(\"Furqan\",\"Ahmad\"):\"03344212557\",\n",
        "       (\"Mazhar\",\"Saleem\"):\"03211887745\",}\n",
        "firstName= input(\"Enter First Name\")\n",
        "lastName=input(\"Enter Last Name\")\n",
        "\n",
        "searchTuple = (firstName, lastName)\n",
        "if searchTuple in sample:\n",
        "    print(sample[searchTuple])\n",
        "else:\n",
        "    print(\"Name NOt found\")\n"
      ]
    },
    {
      "cell_type": "code",
      "execution_count": null,
      "id": "170cab5a",
      "metadata": {
        "id": "170cab5a"
      },
      "outputs": [],
      "source": []
    }
  ],
  "metadata": {
    "kernelspec": {
      "display_name": "Python 3 (ipykernel)",
      "language": "python",
      "name": "python3"
    },
    "language_info": {
      "codemirror_mode": {
        "name": "ipython",
        "version": 3
      },
      "file_extension": ".py",
      "mimetype": "text/x-python",
      "name": "python",
      "nbconvert_exporter": "python",
      "pygments_lexer": "ipython3",
      "version": "3.9.7"
    },
    "colab": {
      "provenance": [],
      "include_colab_link": true
    }
  },
  "nbformat": 4,
  "nbformat_minor": 5
}