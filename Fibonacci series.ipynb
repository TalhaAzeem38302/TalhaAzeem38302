{
 "cells": [
  {
   "cell_type": "code",
   "execution_count": 1,
   "id": "092e1e13",
   "metadata": {},
   "outputs": [],
   "source": [
    "#Sp20-BCsS-047\n",
    "#Talha Azeem"
   ]
  },
  {
   "cell_type": "code",
   "execution_count": 2,
   "id": "4a86ec9d",
   "metadata": {},
   "outputs": [],
   "source": [
    "#Lab Task 3\n",
    "#Fibonacci series is that when you add the previous two numbers the next number is formed.\n",
    "#You have to start from 0 and 1."
   ]
  },
  {
   "cell_type": "code",
   "execution_count": 5,
   "id": "db9136b1",
   "metadata": {},
   "outputs": [
    {
     "name": "stdout",
     "output_type": "stream",
     "text": [
      " [0, 1, 1, 2, 3, 5]\n"
     ]
    },
    {
     "data": {
      "text/plain": [
       "3"
      ]
     },
     "execution_count": 5,
     "metadata": {},
     "output_type": "execute_result"
    }
   ],
   "source": [
    "def fib_dp(num):\n",
    "    arr = [0,1]\n",
    "    print(\"\",end= ' ')\n",
    "    if num==1:\n",
    "        print('0')\n",
    "    elif num==2:\n",
    "        print('[0,','1]')\n",
    "    else:\n",
    "        while(len(arr)<num):\n",
    "            arr.append(0)\n",
    "        if(num==0 or num==1):\n",
    "            return 1\n",
    "        else:\n",
    "            arr[0]=0\n",
    "            arr[1]=1\n",
    "            for i in range(2,num):\n",
    "                arr[i]=arr[i-1]+arr[i-2]\n",
    "            print(arr)    \n",
    "            return arr[num-2]\n",
    "fib_dp(6)"
   ]
  }
 ],
 "metadata": {
  "kernelspec": {
   "display_name": "Python 3 (ipykernel)",
   "language": "python",
   "name": "python3"
  },
  "language_info": {
   "codemirror_mode": {
    "name": "ipython",
    "version": 3
   },
   "file_extension": ".py",
   "mimetype": "text/x-python",
   "name": "python",
   "nbconvert_exporter": "python",
   "pygments_lexer": "ipython3",
   "version": "3.9.7"
  }
 },
 "nbformat": 4,
 "nbformat_minor": 5
}
