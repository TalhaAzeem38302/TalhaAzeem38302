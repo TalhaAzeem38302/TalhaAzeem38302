{
  "nbformat": 4,
  "nbformat_minor": 0,
  "metadata": {
    "colab": {
      "provenance": [],
      "collapsed_sections": [],
      "toc_visible": true,
      "authorship_tag": "ABX9TyPu8Yz7M9RFu/E8tXDaQTsf",
      "include_colab_link": true
    },
    "kernelspec": {
      "name": "python3",
      "display_name": "Python 3"
    },
    "language_info": {
      "name": "python"
    }
  },
  "cells": [
    {
      "cell_type": "markdown",
      "metadata": {
        "id": "view-in-github",
        "colab_type": "text"
      },
      "source": [
        "<a href=\"https://colab.research.google.com/github/MuaazShoaib/artificial_intelligence_lab/blob/main/Lab_1_Python_revision.ipynb\" target=\"_parent\"><img src=\"https://colab.research.google.com/assets/colab-badge.svg\" alt=\"Open In Colab\"/></a>"
      ]
    },
    {
      "cell_type": "markdown",
      "source": [
        "# Muhammad Muaaz Shoaib (FA20-BCS-074)\n",
        "\n"
      ],
      "metadata": {
        "id": "6OCNx_VXXxT6"
      }
    },
    {
      "cell_type": "markdown",
      "source": [
        "# Lab 1 - Python revision"
      ],
      "metadata": {
        "id": "4FU1i3TUAxR5"
      }
    },
    {
      "cell_type": "markdown",
      "source": [
        "## Lab Activities"
      ],
      "metadata": {
        "id": "pV6HL2_RCbMe"
      }
    },
    {
      "cell_type": "markdown",
      "source": [
        "### Activity 1:\n",
        "Let us take an integer from user as input and check whether the given value is even or not."
      ],
      "metadata": {
        "id": "b9JhaVoRCvWF"
      }
    },
    {
      "cell_type": "code",
      "source": [
        "number = input('Enter a number ')\n",
        "if int(number) % 2 == 0:\n",
        "  print(number, 'is an even number')\n",
        "else:\n",
        "  print(number, 'is an odd number')  "
      ],
      "metadata": {
        "colab": {
          "base_uri": "https://localhost:8080/"
        },
        "id": "a3w-5ICiC2_F",
        "outputId": "a916e1cf-c652-4c6b-8fbf-0664e366596b"
      },
      "execution_count": 1,
      "outputs": [
        {
          "output_type": "stream",
          "name": "stdout",
          "text": [
            "Enter a number 1\n",
            "1 is an odd number\n"
          ]
        }
      ]
    },
    {
      "cell_type": "markdown",
      "source": [
        "### Activity 2:\n",
        "Write a Python code to keep accepting integer values from user until 0 is entered. Display sum of the\n",
        "given values."
      ],
      "metadata": {
        "id": "vrFifm55Dyv9"
      }
    },
    {
      "cell_type": "code",
      "source": [
        "sum = 0\n",
        "number = int(input('Enter an integer value '))\n",
        "while number != 0:\n",
        "  sum = sum + number\n",
        "  number = int(input('Enter an integer value '))\n",
        "print('Sum of the given values is ', sum)"
      ],
      "metadata": {
        "colab": {
          "base_uri": "https://localhost:8080/"
        },
        "id": "JdBDqo8uEHF1",
        "outputId": "f3fbabfb-9bae-4523-a863-41572c2e2f97"
      },
      "execution_count": 2,
      "outputs": [
        {
          "output_type": "stream",
          "name": "stdout",
          "text": [
            "Enter an integer value 1\n",
            "Enter an integer value 2\n",
            "Enter an integer value 3\n",
            "Enter an integer value 0\n",
            "Sum of the given values is  6\n"
          ]
        }
      ]
    },
    {
      "cell_type": "markdown",
      "source": [
        "### Activity 3:\n",
        "Write a Python code to accept an integer value from user and check that whether the given value is\n",
        "prime number or not."
      ],
      "metadata": {
        "id": "HjSLhlgTEwrs"
      }
    },
    {
      "cell_type": "code",
      "source": [
        "isPrime = True\n",
        "index = 2\n",
        "number = int(input('Enter a number '))\n",
        "while index < number:\n",
        "  remainder = number%index\n",
        "  if remainder == 0:\n",
        "    isPrime = False\n",
        "    break\n",
        "  else:\n",
        "    index = index + 1\n",
        "\n",
        "if isPrime:\n",
        "  print(number, ' is a prime number')\n",
        "else:\n",
        "  print(number, ' is not a prime number')"
      ],
      "metadata": {
        "colab": {
          "base_uri": "https://localhost:8080/"
        },
        "id": "tKzCIv0XFFJ2",
        "outputId": "fcebaa5f-d47a-426f-90d1-d3efbca07fab"
      },
      "execution_count": 3,
      "outputs": [
        {
          "output_type": "stream",
          "name": "stdout",
          "text": [
            "Enter a number 1\n",
            "1  is a prime number\n"
          ]
        }
      ]
    },
    {
      "cell_type": "markdown",
      "source": [
        "### Activity 4:\n",
        "Accept 5 integer values from user and display their sum. Draw flowchart before\n",
        "coding in python."
      ],
      "metadata": {
        "id": "fU0lQsH1GYTG"
      }
    },
    {
      "cell_type": "code",
      "source": [
        "sum = 0\n",
        "index = 0\n",
        "while index <= 4:\n",
        "  number = int(input('enter a number '))\n",
        "  sum = sum + number\n",
        "  index = index + 1\n",
        "\n",
        "print('sum is ', sum)  "
      ],
      "metadata": {
        "colab": {
          "base_uri": "https://localhost:8080/"
        },
        "id": "40hq7eyeGlXc",
        "outputId": "1bc083d5-e347-443e-db06-61d2dd266bcd"
      },
      "execution_count": 4,
      "outputs": [
        {
          "output_type": "stream",
          "name": "stdout",
          "text": [
            "enter a number 1\n",
            "enter a number 1\n",
            "enter a number 1\n",
            "enter a number 1\n",
            "enter a number 1\n",
            "sum is  5\n"
          ]
        }
      ]
    },
    {
      "cell_type": "markdown",
      "source": [
        "### Activity 5:\n",
        "Calculate the sum of all the values between 0-10 using while loop."
      ],
      "metadata": {
        "id": "LAcdpcajHWlV"
      }
    },
    {
      "cell_type": "code",
      "source": [
        "sum = 0\n",
        "index = 1\n",
        "while index <= 10:\n",
        "  sum = sum + index\n",
        "  index = index + 1\n",
        "\n",
        "print('sum is ', sum)"
      ],
      "metadata": {
        "colab": {
          "base_uri": "https://localhost:8080/"
        },
        "id": "FutXSVWMIA1L",
        "outputId": "81cd6619-51f4-49e2-e170-7ead3f4f900f"
      },
      "execution_count": 5,
      "outputs": [
        {
          "output_type": "stream",
          "name": "stdout",
          "text": [
            "sum is  55\n"
          ]
        }
      ]
    },
    {
      "cell_type": "markdown",
      "source": [
        "### Activity 6:\n",
        "Take input from the keyboard and use it in your program.\n"
      ],
      "metadata": {
        "id": "S4vyVsEsJFMu"
      }
    },
    {
      "cell_type": "code",
      "source": [
        "name = input('What is your name? ')\n",
        "print('Your name is ', name)\n",
        "\n",
        "age = int(input('What is your age? '))\n",
        "print('Your age is ', age)\n",
        "\n",
        "gpa = float(input('What is your gpa? '))\n",
        "print('Your age is ', gpa)"
      ],
      "metadata": {
        "colab": {
          "base_uri": "https://localhost:8080/"
        },
        "id": "oTifXja3JLua",
        "outputId": "a07bd57e-d1b5-46cc-cae4-15ff7c845ac2"
      },
      "execution_count": 6,
      "outputs": [
        {
          "output_type": "stream",
          "name": "stdout",
          "text": [
            "What is your name? Muaaz\n",
            "Your name is  Muaaz\n",
            "What is your age? 22\n",
            "Your age is  22\n",
            "What is your gpa? 3.01\n",
            "Your age is  3.01\n"
          ]
        }
      ]
    },
    {
      "cell_type": "markdown",
      "source": [
        "### Activity 7:\n",
        "Generate a random number between 1 and 9 (including 1 and 9). Ask the user to guess the number,\n",
        "then tell them whether they guessed too low, too high, or exactly right. (Hint: remember to use the\n",
        "user input lessons from the very first exercise)\n",
        "Extras:\n",
        "Keep the game going until the user types “exit”\n",
        "Keep track of how many guesses the user has taken, and when the game ends, print this out.\n"
      ],
      "metadata": {
        "id": "-MEEPjDIKKYi"
      }
    },
    {
      "cell_type": "code",
      "source": [
        "import random\n",
        "\n",
        "MINIMUM = 1\n",
        "MAXIMUM = 9\n",
        "NUMBER = random.randint(MINIMUM, MAXIMUM)\n",
        "GUESS = None\n",
        "ANOTHER = None\n",
        "TRY = 0\n",
        "RUNNING = True\n",
        "\n",
        "while RUNNING:\n",
        "  GUESS = input('What is your lucky number? ')\n",
        "  if int(GUESS) < NUMBER:\n",
        "    print('Wrong, too low')\n",
        "  elif int(GUESS) > NUMBER:\n",
        "    print('Wrong, too high')  \n",
        "  elif GUESS.lower() == 'exit':\n",
        "    print('Better luck next time')  \n",
        "  elif int(GUESS) == NUMBER:\n",
        "    print(\"Yes, that's the one, \", str(NUMBER))\n",
        "    if TRY < 2:\n",
        "      print('Impressive, only ' + str(TRY) + \"tries\")\n",
        "    elif TRY > 2 and TRY < 10:\n",
        "      print('Pretty good ' + str(TRY) + 'tries')\n",
        "    else:\n",
        "      print('Bad, ' + str(TRY) + 'tries') \n",
        "    RUNNING = False\n",
        "  TRY += 1"
      ],
      "metadata": {
        "id": "8u2wM8e8KlHS",
        "colab": {
          "base_uri": "https://localhost:8080/"
        },
        "outputId": "326e0a8e-d944-4402-f550-c0d29c711b3b"
      },
      "execution_count": 9,
      "outputs": [
        {
          "output_type": "stream",
          "name": "stdout",
          "text": [
            "What is your lucky number?10\n",
            "Wrong, too high\n",
            "What is your lucky number?5\n",
            "Yes, that's the one,  5\n",
            "Impressive, only1tries\n"
          ]
        }
      ]
    },
    {
      "cell_type": "markdown",
      "source": [
        "## Lab Tasks"
      ],
      "metadata": {
        "id": "9Yp32Gc6Lu9i"
      }
    },
    {
      "cell_type": "markdown",
      "source": [
        "### Lab Task 1:\n",
        "Write a program that prompts the user to input an integer and then outputs the number with the digits\n",
        "reversed. For example, if the input is 12345, the output should be 54321"
      ],
      "metadata": {
        "id": "WDUkAE1YKwO7"
      }
    },
    {
      "cell_type": "code",
      "source": [
        "number = int(input('Enter a number '))\n",
        "reverse = 0\n",
        " \n",
        "while(number > 0):\n",
        "    remainder = number % 10\n",
        "    reverse = reverse * 10 + remainder\n",
        "    number = number // 10\n",
        " \n",
        "print(\"The reverse is \", reverse)"
      ],
      "metadata": {
        "colab": {
          "base_uri": "https://localhost:8080/"
        },
        "id": "iwNvgM_5LraM",
        "outputId": "c4bfd9c8-cc02-46d1-a095-f4714c251d98"
      },
      "execution_count": 16,
      "outputs": [
        {
          "output_type": "stream",
          "name": "stdout",
          "text": [
            "Enter a number 12345\n",
            "The reverse is  54321\n"
          ]
        }
      ]
    },
    {
      "cell_type": "markdown",
      "source": [
        "### Lab Task 2:\n",
        "Write a program that reads a set of integers, and then prints the sum of the even and odd integers.\n"
      ],
      "metadata": {
        "id": "JBq1hJbaMio_"
      }
    },
    {
      "cell_type": "code",
      "source": [
        "integer = input('Enter a number ')\n",
        "even_sum = 0\n",
        "odd_sum = 0\n",
        "\n",
        "for i in range(len(integer)):\n",
        "  if int(integer[i]) % 2 == 0:\n",
        "    even_sum = even_sum + int(integer[i])\n",
        "  else:\n",
        "    odd_sum = odd_sum + int(integer[i])\n",
        "\n",
        "print('Sum of even integers: ', even_sum)\n",
        "print('Sum of odd integers: ', odd_sum)"
      ],
      "metadata": {
        "colab": {
          "base_uri": "https://localhost:8080/"
        },
        "id": "5cE-oC6JNRIl",
        "outputId": "d1cd7250-a796-4d54-f804-358c22e802a0"
      },
      "execution_count": 18,
      "outputs": [
        {
          "output_type": "stream",
          "name": "stdout",
          "text": [
            "Enter a number 12345\n",
            "Sum of even integers:  6\n",
            "Sum of odd integers:  9\n"
          ]
        }
      ]
    },
    {
      "cell_type": "markdown",
      "source": [
        "### Lab Task 3:\n",
        "Fibonacci series is that when you add the previous two numbers the next number is formed. You have\n",
        "to start from 0 and 1.\n",
        "E.g. 0+1=1 → 1+1=2 → 1+2=3 → 2+3=5 → 3+5=8 → 5+8=13\n",
        "So the series becomes\n",
        "0 1 1 2 3 5 8 13 21 34 55 ……………………………………\n",
        "Steps: You have to take an input number that shows how many terms to be displayed. Then use loops\n",
        "for displaying the Fibonacci series up to that term e.g. input no is =6 the output should be\n",
        "0 1 1 2 3 5"
      ],
      "metadata": {
        "id": "DuKoATEZQGrX"
      }
    },
    {
      "cell_type": "code",
      "source": [
        "i = 1\n",
        "number = int(input('How many terms do you want to displayed '))\n",
        "first_term = 0\n",
        "second_term = 1\n",
        "print('Fibonacci Series till ' + str(number) + ' terms:')\n",
        "\n",
        "while i <= number:\n",
        "  print(first_term)\n",
        "  next_term = first_term + second_term\n",
        "  first_term = second_term\n",
        "  second_term = next_term\n",
        "  i = i + 1"
      ],
      "metadata": {
        "colab": {
          "base_uri": "https://localhost:8080/"
        },
        "id": "Y_yZzHunQkAS",
        "outputId": "e39fdf6a-2248-4f56-fdd7-ce0070e1cac5"
      },
      "execution_count": 24,
      "outputs": [
        {
          "output_type": "stream",
          "name": "stdout",
          "text": [
            "How many terms do you want to displayed 6\n",
            "Fibonacci Series till 6 terms:\n",
            "0\n",
            "1\n",
            "1\n",
            "2\n",
            "3\n",
            "5\n"
          ]
        }
      ]
    },
    {
      "cell_type": "markdown",
      "source": [
        "### Lab Task 4: \n",
        "Write a Python code to accept marks of a student from 1-100 and display the grade according to the\n",
        "following formula.\n",
        "* Grade F if marks are less than 50\n",
        "* Grade E if marks are between 50 to 60\n",
        "* Grade D if marks are between 61 to 70\n",
        "* Grade C if marks are between 71 to 80\n",
        "* Grade B if marks are between 81 to 90\n",
        "* Grade A if marks are between 91 to 100"
      ],
      "metadata": {
        "id": "8OhM8oYoTZ5-"
      }
    },
    {
      "cell_type": "code",
      "source": [
        "marks = int(input('Enter your marks '))\n",
        "\n",
        "if marks <= 50:\n",
        "  print('Grade F')\n",
        "elif marks >= 50 and marks <= 60:\n",
        "   print('Grade E')  \n",
        "elif marks >= 60 and marks <= 70:\n",
        "   print('Grade D')\n",
        "elif marks >= 70 and marks <= 80:\n",
        "   print('Grade C')\n",
        "elif marks >= 80 and marks <= 90:\n",
        "   print('Grade B')\n",
        "elif marks >= 90 and marks <= 100:\n",
        "   print('Grade A')"
      ],
      "metadata": {
        "colab": {
          "base_uri": "https://localhost:8080/"
        },
        "id": "wubYROwoVN3r",
        "outputId": "27da3fc2-75a0-425f-a804-b3d5af3e7bd6"
      },
      "execution_count": 25,
      "outputs": [
        {
          "output_type": "stream",
          "name": "stdout",
          "text": [
            "Enter your marks 92\n",
            "Grade A\n"
          ]
        }
      ]
    },
    {
      "cell_type": "markdown",
      "source": [
        "### Lab Task 5:\n",
        "Write a program that takes a number from user and calculate the factorial of that number"
      ],
      "metadata": {
        "id": "eUR3iWDjVbcf"
      }
    },
    {
      "cell_type": "code",
      "source": [
        "number = int(input(\"Enter a number \"))    \n",
        "factorial = 1    \n",
        "if number < 0:    \n",
        "   print(\"Factorial does not exist for negative numbers\")    \n",
        "elif number == 0:    \n",
        "   print(\"The factorial of \",number,\" is \", 1)  \n",
        "else:    \n",
        "   for i in range(1,number + 1):    \n",
        "       factorial = factorial * i    \n",
        "   print(\"The factorial of \",number,\" is \",factorial) "
      ],
      "metadata": {
        "colab": {
          "base_uri": "https://localhost:8080/"
        },
        "id": "mN-eJwhIVeSQ",
        "outputId": "57bfd48f-8656-4dc9-ab9c-117b41244fd8"
      },
      "execution_count": 26,
      "outputs": [
        {
          "output_type": "stream",
          "name": "stdout",
          "text": [
            "Enter a number 5\n",
            "The factorial of  5  is  120\n"
          ]
        }
      ]
    },
    {
      "cell_type": "code",
      "source": [],
      "metadata": {
        "id": "4zq9y7XVXNIy"
      },
      "execution_count": null,
      "outputs": []
    }
  ]
}