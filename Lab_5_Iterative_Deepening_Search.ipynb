{
 "cells": [
  {
   "cell_type": "code",
   "execution_count": 27,
   "metadata": {
    "id": "qkjKdZLQRrVw"
   },
   "outputs": [],
   "source": [
    "class Trie:\n",
    "  def __init__(self):\n",
    "    self.character = {}\n",
    "    self.isLeaf = False"
   ]
  },
  {
   "cell_type": "code",
   "execution_count": 28,
   "metadata": {
    "id": "rK6KWSo9R7Ga"
   },
   "outputs": [],
   "source": [
    "def insert(root, string):\n",
    "  current = root\n",
    "  for character in string:\n",
    "    current = current.character.setdefault(character, Trie())\n",
    "\n",
    "  current.isLeaf = True  "
   ]
  },
  {
   "cell_type": "code",
   "execution_count": 29,
   "metadata": {
    "id": "cNncbhh28wTW"
   },
   "outputs": [],
   "source": [
    "row = [-1, -1, -1, 0, 1, 0, 1, 1]\n",
    "column = [-1, 1, 0, -1, -1, 1, 0, 1]"
   ]
  },
  {
   "cell_type": "code",
   "execution_count": 30,
   "metadata": {
    "id": "U02Bqby69Qxt"
   },
   "outputs": [],
   "source": [
    "def isSafe(x, y, processed, board, character):\n",
    "  return (0 <= x < len(processed)) and (0 <= y < len(processed[0])) and not processed[x][y] and (board[x][y] == character)"
   ]
  },
  {
   "cell_type": "code",
   "execution_count": 31,
   "metadata": {
    "id": "uOsCzfRw-D1m"
   },
   "outputs": [],
   "source": [
    "def searchBoggle(root, board, i, j, processed, path, result):\n",
    "  if root.isLeaf:\n",
    "    result.add(path)\n",
    "\n",
    "  processed[i][j] = True\n",
    "\n",
    "  for key, value in root.character.items():\n",
    "\n",
    "    for k in range(len(row)):\n",
    "      if isSafe(i + row[k], j + column[k], processed, board, key):\n",
    "        searchBoggle(value, board, i + row[k], j + column[k], processed, path + key, result)\n",
    "\n",
    "  processed[i][j] = False"
   ]
  },
  {
   "cell_type": "code",
   "execution_count": 32,
   "metadata": {
    "id": "VOYh72otAaAK"
   },
   "outputs": [],
   "source": [
    "def searchInBoggle(board, words):\n",
    "  result = set()\n",
    "\n",
    "  if not board or not len(board):\n",
    "    return\n",
    "\n",
    "  root = Trie()\n",
    "  for word in words:\n",
    "    insert(root, word)  \n",
    "\n",
    "  (M, N) = (len(board), len(board[0]))\n",
    "\n",
    "  processed = [[False for x in range(N)] for y in range(M)]\n",
    "\n",
    "  for i in range(M):\n",
    "    for j in range(N):\n",
    "      character = board[i][j]\n",
    "\n",
    "      if character in root.character:\n",
    "        searchBoggle(root.character[character], board, i, j, processed, character, result)\n",
    "\n",
    "  return result"
   ]
  },
  {
   "cell_type": "code",
   "execution_count": 33,
   "metadata": {
    "colab": {
     "base_uri": "https://localhost:8080/"
    },
    "id": "4WhGXTZLCP4Q",
    "outputId": "aa9c551b-bc71-47e5-e7a5-a20b9719f732"
   },
   "outputs": [
    {
     "name": "stdout",
     "output_type": "stream",
     "text": [
      "Valid Words:  {'STONED', 'SAND', 'NOTE'}\n"
     ]
    }
   ],
   "source": [
    "if __name__ == '__main__':\n",
    "  board = [\n",
    "      ['M', 'S', 'E', 'F'],\n",
    "      ['R', 'A', 'T', 'D'],\n",
    "      ['L', 'O', 'N', 'E'],\n",
    "      ['K', 'A', 'F', 'B']\n",
    "  ]\n",
    "\n",
    "  words = ['START', 'NOTE', 'SAND', 'STONED']\n",
    "  validWords = searchInBoggle(board, words)\n",
    "\n",
    "  print('Valid Words: ', validWords)"
   ]
  },
  {
   "cell_type": "markdown",
   "metadata": {
    "id": "gdwFjV0YKr6Y"
   },
   "source": [
    "## Lab Task 1"
   ]
  },
  {
   "cell_type": "code",
   "execution_count": 34,
   "metadata": {
    "id": "i29M59LgK-Qc"
   },
   "outputs": [],
   "source": [
    "class Problem(object):\n",
    "\n",
    "  def __init__(self, initial, goal=None):\n",
    "    self.initial = initial\n",
    "    self.goal = goal\n",
    "\n",
    "  def actions(self, state):\n",
    "    raise NotImplementedError\n",
    "\n",
    "  def result(self, state, action):\n",
    "    raise NotImplementedError\n",
    "\n",
    "  def goal_test(self, state):\n",
    "    if isinstance(self.goal, list):\n",
    "      return is_in(state, self.goal)\n",
    "    else:\n",
    "      return state == self.goal\n",
    "\n",
    "  def path_cost(self, c, state1, action, state2):\n",
    "    return c + 1\n",
    "\n",
    "  def value(self, state):\n",
    "    raise NotImplementedError              "
   ]
  },
  {
   "cell_type": "code",
   "execution_count": 35,
   "metadata": {
    "id": "Jy3iFBXpLzw_"
   },
   "outputs": [],
   "source": [
    "class Node:\n",
    "  def __init__(self, state, parent=None, action=None, path_cost=0):\n",
    "    self.state = state\n",
    "    self.parent = parent\n",
    "    self.action = action\n",
    "    self.path_cost = path_cost\n",
    "    self.depth = 0\n",
    "\n",
    "    if parent:\n",
    "      self.depth = parent.depth + 1\n",
    "\n",
    "  def __repr__(self):\n",
    "    return \"<Node {}>\".format(self.state)\n",
    "\n",
    "  def __lt__(self, node):\n",
    "    return self.state < node.state\n",
    "\n",
    "  def expand(self, problem):\n",
    "    return [self.child_node(problem, action) for action in problem.actions(self.state)]     \n",
    "\n",
    "  def child_node(self, problem, action):\n",
    "    next_state = problem.result(self.state, action)\n",
    "    next_node = Node(next_state, self, action, problem.path_cost(self.path_cost, self.state, action, next_state)) \n",
    "\n",
    "    return next_node\n",
    "\n",
    "  def solution(self):\n",
    "    return [node.action for node in self.path()[1:]]\n",
    "\n",
    "  def path(self):\n",
    "    node, path_back = self, []\n",
    "    while node:\n",
    "      path_back.append(node)\n",
    "      node = node.parent\n",
    "    return list(reversed(path_back))    \n",
    "\n",
    "  def __eq__(self, other):\n",
    "    return isinstance(other, Node) and self.state == other.state\n",
    "\n",
    "  def __hash__(self):\n",
    "    return hash(self.state)      "
   ]
  },
  {
   "cell_type": "code",
   "execution_count": 36,
   "metadata": {
    "id": "Dt2OBfPmaw-Q"
   },
   "outputs": [],
   "source": [
    "def depth_limited_search_for_vis(problem):\n",
    "  iterations, all_node_colors, node = depth_limited_search_graph(problem)\n",
    "  return (iterations, all_node_colors, node)"
   ]
  },
  {
   "cell_type": "code",
   "execution_count": 37,
   "metadata": {
    "id": "-e0eVYknbSvT"
   },
   "outputs": [],
   "source": [
    "def iterative_deepening_search_for_vis(problem):\n",
    "  for depth in range(sys.maxsize):\n",
    "    iterations, all_node_colors, node=depth_limited_search_graph_for_vis(problem)\n",
    "    if iterations:\n",
    "      return (iterations, all_node_colors, node)"
   ]
  },
  {
   "cell_type": "code",
   "execution_count": 38,
   "metadata": {
    "id": "VVP5wJyJVeS8"
   },
   "outputs": [],
   "source": [
    "romania_map = (dict(\n",
    "    Arad = dict(Zerind=75, Sibiu=140, Timisoara=118),\n",
    "    Bucharest = dict(Urziceni=85, Pitesti=101, Giurgiu=90, Fagaras=211),\n",
    "    Craiova = dict(Drobeta=120, Rimnicu=146, Pitesti=138),\n",
    "    Drobeta = dict(Mehadia=75),\n",
    "    Eforie = dict(Hirsova=86),\n",
    "    Fagaras = dict(Sibiu=99),\n",
    "    Hirsova = dict(Urziceni=98),\n",
    "    Iasi=dict(Vaslui=92, Neamt=87),\n",
    "    Lugoj=dict(Timisoara=111, Mehadia=70),\n",
    "    Oradea = dict(Zerind=71, Sibui=151),\n",
    "    Pitesti = dict(Riminicu=97),\n",
    "    Rimnicu=dict(Sibiu=80),\n",
    "    Urziceni=dict(Vaslui=143),\n",
    "))"
   ]
  },
  {
   "cell_type": "code",
   "execution_count": 39,
   "metadata": {
    "id": "EAevQFGmYYJA"
   },
   "outputs": [],
   "source": [
    "romania_map = dict(\n",
    "    Arad=(91, 492), Bucharest=(400, 327), Craiova=(253, 288),\n",
    "    Drobeta=(165, 299), Eforie=(562, 293), Fagaras=(305, 449),\n",
    "    Giurgiu=(375, 270), Hirsova=(534, 350), Iasi=(473, 506),\n",
    "    Lugoj=(165, 379), Mehadia=(168, 339), Neamt=(406, 537),\n",
    "    Oradea=(131, 571), Pitesti=(320, 368), Rimnicu=(233, 410),\n",
    "    Sibiu=(207, 457), Timisoara=(94, 410), Urziceni=(456, 350),\n",
    "    Vaslui=(509, 444), Zerind=(108, 531)\n",
    ")"
   ]
  },
  {
   "cell_type": "code",
   "execution_count": null,
   "metadata": {
    "id": "AGNv_-3HcR6W"
   },
   "outputs": [],
   "source": [
    "all_node_colors = []\n",
    "romania_problem = GraphProblem('Arad', 'Bucharest', romania_map)\n",
    "display_visual(rominia_graph_data, \n",
    "               user_input=False, \n",
    "               alogrithm=iterative_deepening_search_for_vis,\n",
    "               problem=romania_problem)"
   ]
  },
  {
   "cell_type": "code",
   "execution_count": null,
   "metadata": {
    "id": "1cqwnRymc0zC"
   },
   "outputs": [],
   "source": []
  }
 ],
 "metadata": {
  "colab": {
   "authorship_tag": "ABX9TyMp9MJK6uj0MJTlaq7P1yIK",
   "collapsed_sections": [],
   "include_colab_link": true,
   "provenance": []
  },
  "kernelspec": {
   "display_name": "Python 3 (ipykernel)",
   "language": "python",
   "name": "python3"
  },
  "language_info": {
   "codemirror_mode": {
    "name": "ipython",
    "version": 3
   },
   "file_extension": ".py",
   "mimetype": "text/x-python",
   "name": "python",
   "nbconvert_exporter": "python",
   "pygments_lexer": "ipython3",
   "version": "3.9.7"
  }
 },
 "nbformat": 4,
 "nbformat_minor": 1
}
