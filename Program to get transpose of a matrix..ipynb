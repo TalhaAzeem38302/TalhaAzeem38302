{
 "cells": [
  {
   "cell_type": "code",
   "execution_count": 1,
   "id": "642aa96f",
   "metadata": {},
   "outputs": [
    {
     "name": "stdout",
     "output_type": "stream",
     "text": [
      "Matrix B=\n",
      "[[-3  9  5]\n",
      " [-4  0  1]\n",
      " [ 6  3  0]]\n",
      "Transpose Matrix=\n",
      "[[-3 -4  6]\n",
      " [ 9  0  3]\n",
      " [ 5  1  0]]\n"
     ]
    }
   ],
   "source": [
    "import numpy as np\n",
    "matrixB = np.array([[-3, 9, 5],\n",
    "                [-4, 0, 1],\n",
    "                [6, 3, 0]])\n",
    "\n",
    "print(f'Matrix B=\\n{matrixB}')\n",
    "\n",
    "matrixB_transpose = matrixB.transpose()\n",
    "\n",
    "print(f'Transpose Matrix=\\n{matrixB_transpose}')"
   ]
  },
  {
   "cell_type": "code",
   "execution_count": null,
   "id": "834968d8",
   "metadata": {},
   "outputs": [],
   "source": []
  }
 ],
 "metadata": {
  "kernelspec": {
   "display_name": "Python 3 (ipykernel)",
   "language": "python",
   "name": "python3"
  },
  "language_info": {
   "codemirror_mode": {
    "name": "ipython",
    "version": 3
   },
   "file_extension": ".py",
   "mimetype": "text/x-python",
   "name": "python",
   "nbconvert_exporter": "python",
   "pygments_lexer": "ipython3",
   "version": "3.9.7"
  }
 },
 "nbformat": 4,
 "nbformat_minor": 5
}
