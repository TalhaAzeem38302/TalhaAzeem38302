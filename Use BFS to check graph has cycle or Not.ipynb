{
 "cells": [
  {
   "cell_type": "code",
   "execution_count": 13,
   "id": "cad86335",
   "metadata": {},
   "outputs": [],
   "source": [
    "graph = {'Arad': ['Sibiu', 'Zerind', 'Timisoara'],\n",
    "    'Zerind': ['Arad', 'Oradea'],\n",
    "    'Oradea': ['Zerind', 'Sibiu'],\n",
    "    'Sibiu': ['Arad', 'Oradea', 'Fagaras', 'Rimnicu'],\n",
    "    'Timisoara': ['Arad', 'Lugoj'],\n",
    "    'Lugoj': ['Timisoara', 'Mehadia'],\n",
    "    'Mehadia': ['Lugoj', 'Drobeta'],\n",
    "    'Drobeta': ['Mehadia', 'Craiova'],\n",
    "    'Craiova': ['Drobeta', 'Rimnicu', 'Pitesti'],\n",
    "    'Rimnicu': ['Sibiu', 'Craiova', 'Pitesti'],\n",
    "    'Fagaras': ['Sibiu', 'Bucharest'],\n",
    "    'Pitesti': ['Rimnicu', 'Craiova', 'Bucharest'],\n",
    "    'Bucharest': ['Fagaras', 'Pitesti', 'Giurgiu', 'Urziceni'],\n",
    "    'Giurgiu': ['Bucharest'],\n",
    "    'Urziceni': ['Bucharest', 'Vaslui', 'Hirsova'],\n",
    "    'Hirsova': ['Urziceni', 'Eforie'],\n",
    "    'Eforie': ['Hirsova'],\n",
    "    'Vaslui': ['Iasi', 'Urziceni'],\n",
    "    'Iasi': ['Vaslui', 'Neamt'],\n",
    "    'Neamt': ['Iasi']}"
   ]
  },
  {
   "cell_type": "code",
   "execution_count": 14,
   "id": "f7d49a54",
   "metadata": {},
   "outputs": [
    {
     "name": "stdout",
     "output_type": "stream",
     "text": [
      "Yes graph contains a cycle.\n"
     ]
    }
   ],
   "source": [
    "from collections import defaultdict\n",
    "\n",
    "def is_cyclic(graph):\n",
    "\n",
    "    visited = set()\n",
    "    queue = []\n",
    "\n",
    "    for vertex in graph.keys():\n",
    "        if vertex not in visited:\n",
    "            queue.append(vertex)\n",
    "\n",
    "            while queue:\n",
    "                curr_vertex = queue.pop(0)\n",
    "                visited.add(curr_vertex)\n",
    "\n",
    "                for neighbor in graph[curr_vertex]:\n",
    "                    if neighbor not in visited:\n",
    "                        queue.append(neighbor)\n",
    "                    else:\n",
    "                        return True\n",
    "\n",
    "    return False\n",
    "\n",
    "\n",
    "\n",
    "result = is_cyclic(graph)\n",
    "if result:\n",
    "    print(\"Yes graph contains a cycle.\")\n",
    "else:\n",
    "    print(\"No, The graph does not contain a cycle.\")\n"
   ]
  },
  {
   "cell_type": "code",
   "execution_count": null,
   "id": "b430a574",
   "metadata": {},
   "outputs": [],
   "source": []
  }
 ],
 "metadata": {
  "kernelspec": {
   "display_name": "Python 3 (ipykernel)",
   "language": "python",
   "name": "python3"
  },
  "language_info": {
   "codemirror_mode": {
    "name": "ipython",
    "version": 3
   },
   "file_extension": ".py",
   "mimetype": "text/x-python",
   "name": "python",
   "nbconvert_exporter": "python",
   "pygments_lexer": "ipython3",
   "version": "3.9.7"
  }
 },
 "nbformat": 4,
 "nbformat_minor": 5
}
