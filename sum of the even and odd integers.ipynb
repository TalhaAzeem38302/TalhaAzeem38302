{
 "cells": [
  {
   "cell_type": "code",
   "execution_count": 2,
   "id": "8bea4876",
   "metadata": {},
   "outputs": [],
   "source": [
    "#SP20-BCS-047\n",
    "#Talha Azeem"
   ]
  },
  {
   "cell_type": "code",
   "execution_count": 3,
   "id": "cbd25d33",
   "metadata": {},
   "outputs": [],
   "source": [
    "#Lab Task 02\n",
    "#Write a program that reads a set of integers\n",
    "#and then prints the sum of the even and odd integers."
   ]
  },
  {
   "cell_type": "code",
   "execution_count": 12,
   "id": "e5778d32",
   "metadata": {},
   "outputs": [
    {
     "name": "stdout",
     "output_type": "stream",
     "text": [
      "Enter the Minimum Value : 3\n",
      "Enter the Maximum Value : 8\n",
      "The Sum of Even Numbers from 1 to 3 = 0\n",
      "The Sum of Odd Numbers from 1 to 3 = 3\n",
      "The Sum of Even Numbers from 1 to 5 = 4\n",
      "The Sum of Odd Numbers from 1 to 5 = 8\n",
      "The Sum of Even Numbers from 1 to 7 = 10\n",
      "The Sum of Odd Numbers from 1 to 7 = 15\n"
     ]
    }
   ],
   "source": [
    "\n",
    "min = int(input(\"Enter the Minimum Value : \")) \n",
    "max = int(input(\"Enter the Maximum Value : \"))\n",
    "\n",
    "even_total = 0\n",
    "odd_total = 0\n",
    " \n",
    "for number in range(min, max + 1):\n",
    "    if(number % 2 == 0):\n",
    "        even_total = even_total + number\n",
    "    else:\n",
    "        odd_total = odd_total + number\n",
    "        print(\"The Sum of Even Numbers from 1 to {0} = {1}\".format(number, even_total))\n",
    "        print(\"The Sum of Odd Numbers from 1 to {0} = {1}\".format(number, odd_total))"
   ]
  },
  {
   "cell_type": "code",
   "execution_count": null,
   "id": "9a5db8f8",
   "metadata": {},
   "outputs": [],
   "source": []
  }
 ],
 "metadata": {
  "kernelspec": {
   "display_name": "Python 3 (ipykernel)",
   "language": "python",
   "name": "python3"
  },
  "language_info": {
   "codemirror_mode": {
    "name": "ipython",
    "version": 3
   },
   "file_extension": ".py",
   "mimetype": "text/x-python",
   "name": "python",
   "nbconvert_exporter": "python",
   "pygments_lexer": "ipython3",
   "version": "3.9.7"
  }
 },
 "nbformat": 4,
 "nbformat_minor": 5
}
