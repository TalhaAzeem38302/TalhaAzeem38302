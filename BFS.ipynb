{
 "cells": [
  {
   "cell_type": "code",
   "execution_count": 4,
   "id": "aa340c43",
   "metadata": {},
   "outputs": [],
   "source": [
    "#Sp20-Bcs-047\n",
    "#Talha Azeem\n",
    "class Node:\n",
    "    \n",
    "    def __init__(self, state, parent, actions, totalCost):\n",
    "        self.state = state\n",
    "        self.parent = parent\n",
    "        self.actions = actions\n",
    "        self.totalCost = totalCost\n",
    "        "
   ]
  },
  {
   "cell_type": "code",
   "execution_count": 5,
   "id": "cec38414",
   "metadata": {},
   "outputs": [],
   "source": [
    "graph = {'Oradea':         Node('Oradea',             None,['Zerind','Sibiu'], [71,151]),\n",
    "             'Zerind':         Node('Zerind',         None,['Arad'], [75]),\n",
    "             'Arad':           Node('Arad',           None,['Sibiu','Timisoara'], [140,118]),\n",
    "             'Timisoara':      Node('Timisoara',      None,['Lugoj'], [111]),\n",
    "             'Lugoj':          Node('Lugoj',          None,['Mehadia'], [70]),\n",
    "             'Mehadia':        Node('Mehadia',        None,['Drobeta'], [75]),\n",
    "             'Drobeta':        Node('Drobeta',        None,['Craviova'],[120]),\n",
    "             'Craviova':       Node('Craviova',       None,['Rimnicu Vilcea','Pitesti'],[146,138]),\n",
    "             'Rimnicu Vilcea': Node('Rimnieu Vilcea', None,['Sibiu','Pitesti'], [80,97]),\n",
    "             'Pitesti':        Node('Pitesti',        None,['Bucharest'],[101]),\n",
    "             'Bucharest':      Node('Bucharest',      None,['Giurgiu','Fagaras','Urziceni'],[90,211,85]),\n",
    "             'Fagaras':        Node('Fagaras',        None,['Sibiu'],[99]),\n",
    "             'Sibiu':          Node('Sibiu',          None,['Rimnicu Vilcea','Fagaras'], [80,99]),\n",
    "             'Urziceni':       Node('Urziceni',       None,['Hirsova','Vaslui'], [98,142]),\n",
    "             'Hirsova':        Node('Hirsova',        None,['Eforie'],[86]),\n",
    "             'Vaslui':         Node('Vaslui',         None,['Lasi'],[92]),\n",
    "             'Lasi':           Node('Lasi',           None,['Neamt'],[87])}"
   ]
  },
  {
   "cell_type": "code",
   "execution_count": 6,
   "id": "3de07014",
   "metadata": {},
   "outputs": [],
   "source": [
    "def BFS():\n",
    "    initialState ='Oradea'\n",
    "    goalState = 'Bucharest'\n",
    "    \n",
    "    \n",
    "    graph = {'Oradea':         Node('Oradea',             None,['Zerind','Sibiu'], [71,151]),\n",
    "             'Zerind':         Node('Zerind',         None,['Arad'], [75]),\n",
    "             'Arad':           Node('Arad',           None,['Sibiu','Timisoara'], [140,118]),\n",
    "             'Timisoara':      Node('Timisoara',      None,['Lugoj'], [111]),\n",
    "             'Lugoj':          Node('Lugoj',          None,['Mehadia'], [70]),\n",
    "             'Mehadia':        Node('Mehadia',        None,['Drobeta'], [75]),\n",
    "             'Drobeta':        Node('Drobeta',        None,['Craviova'],[120]),\n",
    "             'Craviova':       Node('Craviova',       None,['Rimnicu Vilcea','Pitesti'],[146,138]),\n",
    "             'Rimnicu Vilcea': Node('Rimnieu Vilcea', None,['Sibiu','Pitesti'], [80,97]),\n",
    "             'Pitesti':        Node('Pitesti',        None,['Bucharest'],[101]),\n",
    "             'Bucharest':      Node('Bucharest',      None,['Giurgiu','Fagaras','Urziceni'],[90,211,85]),\n",
    "             'Fagaras':        Node('Fagaras',        None,['Sibiu'],[99]),\n",
    "             'Sibiu':          Node('Sibiu',          None,['Rimnicu Vilcea','Fagaras'], [80,99]),\n",
    "             'Urziceni':       Node('Urziceni',       None,['Hirsova','Vaslui'], [98,142]),\n",
    "             'Hirsova':        Node('Hirsova',        None,['Eforie'],[86]),\n",
    "             'Vaslui':         Node('Vaslui',         None,['Lasi'],[92]),\n",
    "             'Lasi':           Node('Lasi',           None,['Neamt'],[87])}\n",
    "    frontier = [initialState]\n",
    "    explored = []\n",
    "    while len(frontier)!=0:\n",
    "        currentNode = frontier.pop(0)\n",
    "        explored.append(currentNode)\n",
    "        for child in graph[currentNode].actions:\n",
    "            if child not in frontier and child not in explored:\n",
    "                graph[child].parent=currentNode\n",
    "                if graph[child].state==goalState:\n",
    "                    return actionSequence(graph, initialState, goalState)\n",
    "            frontier.append(child)\n"
   ]
  },
  {
   "cell_type": "code",
   "execution_count": 7,
   "id": "f843eb94",
   "metadata": {},
   "outputs": [],
   "source": [
    "def actionSequence(graph, initialState, goalState):\n",
    "    \n",
    "        solution=[goalState]\n",
    "        currentParent=graph[goalState].parent\n",
    "        while currentParent!= None:\n",
    "            solution.append(currentParent)\n",
    "            currentParent = graph[currentParent].parent\n",
    "        solution.reverse()\n",
    "        return solution"
   ]
  },
  {
   "cell_type": "code",
   "execution_count": 8,
   "id": "e52f2ee8",
   "metadata": {},
   "outputs": [
    {
     "name": "stdout",
     "output_type": "stream",
     "text": [
      "['Oradea', 'Sibiu', 'Rimnicu Vilcea', 'Pitesti', 'Bucharest']\n"
     ]
    }
   ],
   "source": [
    "solution = BFS()\n",
    "print(solution)"
   ]
  },
  {
   "cell_type": "code",
   "execution_count": 18,
   "id": "2d136c76",
   "metadata": {},
   "outputs": [
    {
     "name": "stdout",
     "output_type": "stream",
     "text": [
      "The graph contains a cycle.\n"
     ]
    }
   ],
   "source": [
    "from collections import defaultdict\n",
    "\n",
    "def is_cyclic(graph):\n",
    "\n",
    "    visited = set()\n",
    "    queue = []\n",
    "\n",
    "    for vertex in graph.keys():\n",
    "        if vertex not in visited:\n",
    "            queue.append(vertex)\n",
    "\n",
    "            while queue:\n",
    "                curr_vertex = queue.pop(0)\n",
    "                visited.add(curr_vertex)\n",
    "\n",
    "                for neighbor in graph[curr_vertex]:\n",
    "                    if neighbor not in visited:\n",
    "                        queue.append(neighbor)\n",
    "                    else:\n",
    "                        return True  # Cycle detected\n",
    "\n",
    "    return False  # No cycle found\n",
    "\n",
    "graph = defaultdict(list)\n",
    "graph['Oradea'] = ['Zerind','Sibiu']\n",
    "graph['Zerind'] = ['Arad']\n",
    "graph['Arad'] = ['Sibiu']\n",
    "graph['Timisoara'] = ['Lugoj']\n",
    "\n",
    "# Check if the graph contains a cycle\n",
    "result = is_cyclic(graph)\n",
    "if result:\n",
    "    print(\"Yes graph contains a cycle.\")\n",
    "else:\n",
    "    print(\"No, The graph does not contain a cycle.\")\n"
   ]
  }
 ],
 "metadata": {
  "kernelspec": {
   "display_name": "Python 3 (ipykernel)",
   "language": "python",
   "name": "python3"
  },
  "language_info": {
   "codemirror_mode": {
    "name": "ipython",
    "version": 3
   },
   "file_extension": ".py",
   "mimetype": "text/x-python",
   "name": "python",
   "nbconvert_exporter": "python",
   "pygments_lexer": "ipython3",
   "version": "3.9.7"
  }
 },
 "nbformat": 4,
 "nbformat_minor": 5
}
