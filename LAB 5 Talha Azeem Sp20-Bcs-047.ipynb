{
 "cells": [
  {
   "cell_type": "code",
   "execution_count": 17,
   "id": "32755562",
   "metadata": {},
   "outputs": [],
   "source": [
    "#LAB Activity 02\n",
    "#Muhammad Talha Azeem\n",
    "#Sp20-Bcs-047\n",
    "def iterative_deepening_dfs(start, target):\n",
    "    depth = 1\n",
    "    bottom_reached = False\n",
    "    while not bottom_reached:\n",
    "        \n",
    "        result, bottom_reached = iterative_deepening_dfs_rec(start, target, 0,depth)\n",
    "        if result is not None:\n",
    "            return result\n",
    "        depth *=2\n",
    "        print(\"Increasing depth to \"+str(depth))\n",
    "    return None"
   ]
  },
  {
   "cell_type": "code",
   "execution_count": 18,
   "id": "1d0d3826",
   "metadata": {},
   "outputs": [],
   "source": [
    "def iterative_deepening_dfs_rec(node, target, current_depth, max_depth):\n",
    "    print(\"Visiting Node \"+ str(node[\"value\"]))\n",
    "    \n",
    "    if node[\"value\"] == target:\n",
    "        print(\"Found the node we're looking for!\")\n",
    "        return node, True\n",
    "        \n",
    "    if current_depth == max_depth:\n",
    "        print(\"Current maximum depth reached,returning...\")\n",
    "        if len(node[\"children\"])>0:\n",
    "            return None, False\n",
    "        else:\n",
    "            return None, True\n",
    "        \n",
    "    bottom_reached = True\n",
    "    for i in range(len(node[\"children\"])):\n",
    "        result, bottom_reached_rec = iterative_deepening_dfs_rec(node[\"children\"][i], target, current_depth + 1, max_depth)\n",
    "        \n",
    "        if result is not None:\n",
    "            return result, True\n",
    "        bottom_reached = bottom_reached and bottom_reached_rec\n",
    "        \n",
    "    return None, bottom_reached"
   ]
  },
  {
   "cell_type": "code",
   "execution_count": 19,
   "id": "7524c9a9",
   "metadata": {},
   "outputs": [],
   "source": [
    "start = {\"value\": 0, \"children\":[\n",
    "    {\"value\": 1, \"children\":[\n",
    "        {\"value\": 3, \"children\":[]},\n",
    "        {\"value\": 4, \"children\":[]}\n",
    "    ]}, {\"value\": 2, \"children\":[\n",
    "        {\"value\": 5, \"children\":[]},\n",
    "        {\"value\": 6, \"children\":[]}\n",
    "    ]}\n",
    "    \n",
    "]}\n",
    "\n"
   ]
  },
  {
   "cell_type": "code",
   "execution_count": 20,
   "id": "fd465a09",
   "metadata": {},
   "outputs": [
    {
     "name": "stdout",
     "output_type": "stream",
     "text": [
      "Visiting Node 0\n",
      "Visiting Node 1\n",
      "Current maximum depth reached,returning...\n",
      "Visiting Node 2\n",
      "Current maximum depth reached,returning...\n",
      "Increasing depth to 2\n",
      "Visiting Node 0\n",
      "Visiting Node 1\n",
      "Visiting Node 3\n",
      "Current maximum depth reached,returning...\n",
      "Visiting Node 4\n",
      "Current maximum depth reached,returning...\n",
      "Visiting Node 2\n",
      "Visiting Node 5\n",
      "Current maximum depth reached,returning...\n",
      "Visiting Node 6\n",
      "Found the node we're looking for!\n",
      "6\n"
     ]
    }
   ],
   "source": [
    "print(iterative_deepening_dfs(start, 6)[\"value\"])"
   ]
  },
  {
   "cell_type": "code",
   "execution_count": null,
   "id": "740b91a2",
   "metadata": {},
   "outputs": [],
   "source": []
  }
 ],
 "metadata": {
  "kernelspec": {
   "display_name": "Python 3 (ipykernel)",
   "language": "python",
   "name": "python3"
  },
  "language_info": {
   "codemirror_mode": {
    "name": "ipython",
    "version": 3
   },
   "file_extension": ".py",
   "mimetype": "text/x-python",
   "name": "python",
   "nbconvert_exporter": "python",
   "pygments_lexer": "ipython3",
   "version": "3.9.7"
  }
 },
 "nbformat": 4,
 "nbformat_minor": 5
}
