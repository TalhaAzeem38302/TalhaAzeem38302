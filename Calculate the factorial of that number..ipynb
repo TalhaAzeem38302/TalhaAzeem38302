{
 "cells": [
  {
   "cell_type": "code",
   "execution_count": 1,
   "id": "a348655a",
   "metadata": {},
   "outputs": [],
   "source": [
    "#Sp20-BCS-047\n",
    "#Talha Azeem"
   ]
  },
  {
   "cell_type": "code",
   "execution_count": 2,
   "id": "1756a4bf",
   "metadata": {},
   "outputs": [],
   "source": [
    "#Lab Task 05\n",
    "#Write a program that takes a number from user and calculate the factorial of that number."
   ]
  },
  {
   "cell_type": "code",
   "execution_count": 7,
   "id": "928932dd",
   "metadata": {},
   "outputs": [
    {
     "name": "stdout",
     "output_type": "stream",
     "text": [
      "Enter a number: 8\n",
      "Factorial of 8 is\n"
     ]
    },
    {
     "data": {
      "text/plain": [
       "40320"
      ]
     },
     "execution_count": 7,
     "metadata": {},
     "output_type": "execute_result"
    }
   ],
   "source": [
    "num = int(input(\"Enter a number: \"))    \n",
    "Factorial = 1  \n",
    "\n",
    "def Factorial(n):  \n",
    "    return 1 if (n==1 or n==0) else n * Factorial(n - 1);\n",
    "print(\"Factorial of\",num,\"is\",)\n",
    "Factorial(num)"
   ]
  },
  {
   "cell_type": "code",
   "execution_count": null,
   "id": "b209114c",
   "metadata": {},
   "outputs": [],
   "source": []
  }
 ],
 "metadata": {
  "kernelspec": {
   "display_name": "Python 3 (ipykernel)",
   "language": "python",
   "name": "python3"
  },
  "language_info": {
   "codemirror_mode": {
    "name": "ipython",
    "version": 3
   },
   "file_extension": ".py",
   "mimetype": "text/x-python",
   "name": "python",
   "nbconvert_exporter": "python",
   "pygments_lexer": "ipython3",
   "version": "3.9.7"
  }
 },
 "nbformat": 4,
 "nbformat_minor": 5
}
