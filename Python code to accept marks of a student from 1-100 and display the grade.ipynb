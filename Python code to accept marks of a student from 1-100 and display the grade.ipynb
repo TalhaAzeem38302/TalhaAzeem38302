{
 "cells": [
  {
   "cell_type": "code",
   "execution_count": 1,
   "id": "3020e453",
   "metadata": {},
   "outputs": [],
   "source": [
    "#Sp20-BCS-047\n",
    "#Talha Azeem"
   ]
  },
  {
   "cell_type": "code",
   "execution_count": 2,
   "id": "02dc4fd0",
   "metadata": {},
   "outputs": [],
   "source": [
    "#Lab Task 4\n",
    "#Write a Python code to accept marks of a student from 1-100 and display the grade according to the following formula.\n",
    "#Grade F if marks are less than 50 \n",
    "#Grade E if marks are between 50 to 60 \n",
    "#Grade D if marks are between 61 to 70 \n",
    "#Grade C if marks are between 71 to 80\n",
    "#Grade B if marks are between 81 to 90\n",
    "#Grade A if marks are between 91 to 100"
   ]
  },
  {
   "cell_type": "code",
   "execution_count": 6,
   "id": "ea0102ad",
   "metadata": {},
   "outputs": [
    {
     "name": "stdout",
     "output_type": "stream",
     "text": [
      "Enter Obtained Marks:\n",
      "English:99\n",
      "Maths:98\n",
      "Science:96\n",
      "PakStudies:97\n",
      "Artifical Intlegence:98\n",
      "Your Grade is A\n"
     ]
    }
   ],
   "source": [
    "print(\"Enter Obtained Marks:\")\n",
    "\n",
    "Eng = int(input(\"English:\"))\n",
    "Math = int(input(\"Maths:\"))\n",
    "Science = int(input(\"Science:\"))\n",
    "PakStudies = int(input(\"PakStudies:\"))\n",
    "AI = int(input(\"Artifical Intlegence:\"))\n",
    "\n",
    "total = Eng+Math+Science+PakStudies+AI\n",
    "avg = total/5\n",
    "\n",
    "if avg>=91 and avg<=100:\n",
    "    print(\"Your Grade is A\")\n",
    "elif avg>=81 and avg<90:\n",
    "    print(\"Your Grade is B\")\n",
    "elif avg>=71 and avg<80:\n",
    "    print(\"Your Grade is C\")\n",
    "elif avg>=61 and avg<70:\n",
    "    print(\"Your Grade is D\")\n",
    "elif avg>=51 and avg<60:\n",
    "    print(\"Your Grade is E\")\n",
    "elif avg>=0 and avg<50:\n",
    "    print(\"Your Grade is F\")\n",
    "else:\n",
    "    print(\"Invalid Input!\")"
   ]
  },
  {
   "cell_type": "code",
   "execution_count": null,
   "id": "99ef1ed8",
   "metadata": {},
   "outputs": [],
   "source": []
  }
 ],
 "metadata": {
  "kernelspec": {
   "display_name": "Python 3 (ipykernel)",
   "language": "python",
   "name": "python3"
  },
  "language_info": {
   "codemirror_mode": {
    "name": "ipython",
    "version": 3
   },
   "file_extension": ".py",
   "mimetype": "text/x-python",
   "name": "python",
   "nbconvert_exporter": "python",
   "pygments_lexer": "ipython3",
   "version": "3.9.7"
  }
 },
 "nbformat": 4,
 "nbformat_minor": 5
}
