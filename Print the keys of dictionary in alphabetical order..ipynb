{
 "cells": [
  {
   "cell_type": "code",
   "execution_count": 1,
   "id": "659b0efc",
   "metadata": {},
   "outputs": [
    {
     "name": "stdout",
     "output_type": "stream",
     "text": [
      "{'Azeem': 2, 'Eqan': 5, 'Iqbal': 1, 'Matiullah': 6, 'Taha': 4, 'Talha': 3}\n"
     ]
    }
   ],
   "source": [
    "dictionary = {'Iqbal': 1, 'Azeem': 2, 'Talha': 3, 'Taha': 4, 'Eqan': 5, 'Matiullah': 6}\n",
    "myKeys = list(dictionary.keys())\n",
    "myKeys.sort()\n",
    "sorted_dictionary = {i: dictionary[i] for i in myKeys}\n",
    " \n",
    "print(sorted_dictionary)"
   ]
  },
  {
   "cell_type": "code",
   "execution_count": null,
   "id": "db4f6115",
   "metadata": {},
   "outputs": [],
   "source": []
  }
 ],
 "metadata": {
  "kernelspec": {
   "display_name": "Python 3 (ipykernel)",
   "language": "python",
   "name": "python3"
  },
  "language_info": {
   "codemirror_mode": {
    "name": "ipython",
    "version": 3
   },
   "file_extension": ".py",
   "mimetype": "text/x-python",
   "name": "python",
   "nbconvert_exporter": "python",
   "pygments_lexer": "ipython3",
   "version": "3.9.7"
  }
 },
 "nbformat": 4,
 "nbformat_minor": 5
}
