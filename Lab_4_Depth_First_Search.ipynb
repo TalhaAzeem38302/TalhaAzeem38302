{
 "cells": [
  {
   "cell_type": "code",
   "execution_count": null,
   "metadata": {
    "colab": {
     "base_uri": "https://localhost:8080/"
    },
    "id": "NQhTl8u_Qq2h",
    "outputId": "b6424627-95e6-44c3-9045-38a1a6c2450d"
   },
   "outputs": [
    {
     "name": "stdout",
     "output_type": "stream",
     "text": [
      "A\n",
      "C\n",
      "G\n",
      "F\n",
      "E\n",
      "['A', 'C', 'E']\n",
      "['D']\n"
     ]
    }
   ],
   "source": [
    "\n",
    "# Activity 1\n",
    "\n",
    "class Node:\n",
    "    def __init__(self, state, parent, actions, totalCost):\n",
    "        self.state = state\n",
    "        self.parent = parent\n",
    "        self.actions = actions\n",
    "\n",
    "        self.totalCost = totalCost\n",
    "\n",
    "def actionSequence(graph, initialState, goalState):\n",
    "    solutions = [goalState]\n",
    "    currentParent = graph[goalState].parent\n",
    "    while currentParent!=None:\n",
    "        solutions.append(currentParent)\n",
    "        currentParent = graph[currentParent].parent\n",
    "    solutions.reverse()\n",
    "    return solutions\n",
    "\n",
    "graph = {\n",
    "    'A': Node('A', None, ['B', 'E', 'C'], None),\n",
    "    'B': Node('B', None, ['D', 'E', 'A'], None),\n",
    "    'C': Node('C', None, ['A', 'F', 'G'], None),\n",
    "    'D': Node('D', None, ['B', 'E'], None),\n",
    "    'E': Node('E', None, ['A', 'B', 'D'], None),\n",
    "    'F': Node('F', None, ['C'], None),\n",
    "    'G': Node('G', None, ['C'], None),\n",
    "}\n",
    "\n",
    "def DFS():\n",
    "    initialState = 'A'\n",
    "    goalState = 'D'\n",
    "\n",
    "    graph = {\n",
    "        'A': Node('A', None, ['B', 'E', 'C'], None),\n",
    "        'B': Node('B', None, ['D', 'E', 'A'], None),\n",
    "        'C': Node('C', None, ['A', 'F', 'G'], None),\n",
    "        'D': Node('D', None, ['B', 'E'], None),\n",
    "        'E': Node('E', None, ['A', 'B', 'D'], None),\n",
    "        'F': Node('F', None, ['C'], None),\n",
    "        'G': Node('G', None, ['C'], None),\n",
    "    }\n",
    "\n",
    "    frontier = [initialState]\n",
    "    explored = []\n",
    "\n",
    "    while len(frontier)!= 0:\n",
    "        currentNode = frontier.pop(len(frontier)-1)\n",
    "        print(currentNode)\n",
    "        explored.append(currentNode)\n",
    "        currentChildren = 0\n",
    "        for child in graph[currentNode].actions:\n",
    "            if child not in frontier and child not in explored:\n",
    "                graph[child].state == currentNode\n",
    "                if graph[child].state == goalState:\n",
    "                    print(explored)\n",
    "                    return actionSequence(graph, initialState, goalState)\n",
    "                currentChildren = currentChildren + 1\n",
    "                frontier.append(child)\n",
    "        if currentChildren == 0:\n",
    "            del explored[len(explored)-1]\n",
    "\n",
    "solution = DFS()\n",
    "print(solution)"
   ]
  },
  {
   "cell_type": "code",
   "execution_count": null,
   "metadata": {
    "colab": {
     "base_uri": "https://localhost:8080/"
    },
    "id": "Yh3-8RGHREmL",
    "outputId": "a9abf2c6-1978-421c-e3d2-74c4d0d4d058"
   },
   "outputs": [
    {
     "name": "stdout",
     "output_type": "stream",
     "text": [
      "D\n",
      "E\n",
      "A\n",
      "['D', 'E', 'A']\n",
      "['C']\n"
     ]
    }
   ],
   "source": [
    "# Activity 2\n",
    "\n",
    "class Node:\n",
    "    def __init__(self, state, parent, actions, totalCost):\n",
    "        self.state = state\n",
    "        self.parent = parent\n",
    "        self.actions = actions\n",
    "\n",
    "        self.totalCost = totalCost\n",
    "\n",
    "def actionSequence(graph, initialState, goalState):\n",
    "    solutions = [goalState]\n",
    "    currentParent = graph[goalState].parent\n",
    "    while currentParent!=None:\n",
    "        solutions.append(currentParent)\n",
    "        currentParent = graph[currentParent].parent\n",
    "    solutions.reverse()\n",
    "    return solutions\n",
    "\n",
    "graph = {\n",
    "    'A': Node('A', None, ['B', 'E', 'C'], None),\n",
    "    'B': Node('B', None, ['D', 'E', 'A'], None),\n",
    "    'C': Node('C', None, ['A', 'F', 'G'], None),\n",
    "    'D': Node('D', None, ['B', 'E'], None),\n",
    "    'E': Node('E', None, ['A', 'B', 'D'], None),\n",
    "    'F': Node('F', None, ['C'], None),\n",
    "    'G': Node('G', None, ['C'], None),\n",
    "}\n",
    "\n",
    "def DFS():\n",
    "    initialState = 'D'\n",
    "    goalState = 'C'\n",
    "\n",
    "    graph = {\n",
    "        'A': Node('A', None, ['B', 'E', 'C'], None),\n",
    "        'B': Node('B', None, ['D', 'E', 'A'], None),\n",
    "        'C': Node('C', None, ['A', 'F', 'G'], None),\n",
    "        'D': Node('D', None, ['B', 'E'], None),\n",
    "        'E': Node('E', None, ['A', 'B', 'D'], None),\n",
    "        'F': Node('F', None, ['C'], None),\n",
    "        'G': Node('G', None, ['C'], None),\n",
    "    }\n",
    "\n",
    "    frontier = [initialState]\n",
    "    explored = []\n",
    "\n",
    "    while len(frontier)!= 0:\n",
    "        currentNode = frontier.pop(len(frontier)-1)\n",
    "        print(currentNode)\n",
    "        explored.append(currentNode)\n",
    "        currentChildren = 0\n",
    "        for child in graph[currentNode].actions:\n",
    "            if child not in frontier and child not in explored:\n",
    "                graph[child].state == currentNode\n",
    "                if graph[child].state == goalState:\n",
    "                    print(explored)\n",
    "                    return actionSequence(graph, initialState, goalState)\n",
    "                currentChildren = currentChildren + 1\n",
    "                frontier.append(child)\n",
    "        if currentChildren == 0:\n",
    "            del explored[len(explored)-1]\n",
    "\n",
    "solution = DFS()\n",
    "print(solution)"
   ]
  },
  {
   "cell_type": "code",
   "execution_count": null,
   "metadata": {
    "id": "lLLc_s2-RKpi"
   },
   "outputs": [],
   "source": []
  }
 ],
 "metadata": {
  "colab": {
   "authorship_tag": "ABX9TyOh5dRlLxZyTDbUHSO6Vhrq",
   "collapsed_sections": [],
   "include_colab_link": true,
   "provenance": []
  },
  "kernelspec": {
   "display_name": "Python 3 (ipykernel)",
   "language": "python",
   "name": "python3"
  },
  "language_info": {
   "codemirror_mode": {
    "name": "ipython",
    "version": 3
   },
   "file_extension": ".py",
   "mimetype": "text/x-python",
   "name": "python",
   "nbconvert_exporter": "python",
   "pygments_lexer": "ipython3",
   "version": "3.9.7"
  }
 },
 "nbformat": 4,
 "nbformat_minor": 1
}
