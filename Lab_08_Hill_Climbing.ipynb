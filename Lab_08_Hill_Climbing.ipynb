{
 "cells": [
  {
   "cell_type": "markdown",
   "metadata": {
    "id": "-BRWRrxhf5NK"
   },
   "source": []
  },
  {
   "cell_type": "markdown",
   "metadata": {
    "id": "i8yh7BCHU8RG"
   },
   "source": [
    "\n",
    "\n",
    "Write a program that implements Hill Climbing algorithms to \n",
    "solve this maze. Write the path followed (in the form of \n",
    "coordinates) and the cost of the path\n",
    "\n",
    "![search.png](data:image/png;base64,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)"
   ]
  },
  {
   "cell_type": "code",
   "execution_count": null,
   "metadata": {
    "colab": {
     "base_uri": "https://localhost:8080/"
    },
    "id": "2fd0_Icrskae",
    "outputId": "dfeb2953-7515-4b67-e9db-aa90c378e731"
   },
   "outputs": [
    {
     "name": "stdout",
     "output_type": "stream",
     "text": [
      "['M', 'L', 'K', 'R', 'Q', 'W']\n"
     ]
    }
   ],
   "source": [
    "# Hill Climbing Search\n",
    "\n",
    "import math\n",
    "\n",
    "class Node:\n",
    "    def __init__(self, state, parent, actions, totalCost, heuristic):\n",
    "        self.state = state\n",
    "        self.parent = parent\n",
    "        self.actions = actions\n",
    "        self.totalCost = totalCost\n",
    "        self.heuristic = heuristic\n",
    "        \n",
    "        \n",
    "def HCS():\n",
    "    graph = {'A': Node('A', None, [('F',13)], 12, (12,12)),\n",
    "             'B': Node('B', None, [('I',13), ('C',13)], 12, (12,17)),\n",
    "             'C': Node('C', None, [('B',13), ('D',13), ('J',13)], 12, (12,18)),\n",
    "             'D': Node('D', None, [('C',13), ('K',13)], 12, (12,19)),\n",
    "             'E': Node('E', None, [('N',13), ('F',13)], 12, (13,12)),\n",
    "             'F': Node('F', None, [('A',13), ('E',13), ('G',13)], 12, (13,13)),\n",
    "             'G': Node('G', None, [('F',13)], 12, (13,14)),\n",
    "             'H': Node('H', None, [('O',13), ('I',13)], 12, (13,16)),\n",
    "             'I': Node('I', None, [('H',13), ('B',13), ('J',13), ('P',13)], 12, (13,17)),\n",
    "             'J': Node('J', None, [('C',13), ('I',13), ('K',13), ('Q',13)], 12, (13,18)),\n",
    "             'K': Node('K', None, [('J',13), ('D',13), ('L',13), ('R',13)], 12, (13,19)),\n",
    "             'L': Node('L', None, [('K',13), ('S',13), ('M',13)], 12, (13,20)),\n",
    "             'M': Node('M', None, [('L',13), ('Green',13), ('T',13)], 12, (13,21)),\n",
    "             'N': Node('N', None, [('E',13)], 12, (14,12)),\n",
    "             'O': Node('O', None, [('H',13), ('P',13)], 12, (14,16)),\n",
    "             'P': Node('P', None, [('O',13), ('Q',13), ('I',13)], 12, (14,17)),\n",
    "             'Q': Node('Q', None, [('W',13), ('P',13), ('J',13), ('R',13)], 12, (14,18)),\n",
    "             'R': Node('R', None, [('Q',13), ('X',13), ('S',13), ('K',13)], 12 ,(14,19)),\n",
    "             'S': Node('S', None, [('T',13), ('R',13), ('L',13), ('Y',13)], 12, (14,20)),\n",
    "             'T': Node('T', None, [('S',13), ('Z',13), ('M',13)], 12, (14,21)),\n",
    "             'U': Node('U', None, [('V',13)], 12, (15,13)),\n",
    "             'V': Node('V', None, [('U',13), ('AB',13)], 12, (15,14)),\n",
    "             'W': Node('W', None, [('X',13),('Q',13)], 12, (15,18)),\n",
    "             'X': Node('X', None, [('Y',13), ('W',13), ('R',13), ('AD',13)], 12, (15,19)),\n",
    "             'Y': Node('Y', None, [('S',13), ('X',1), ('Z',13)], 12, (15,120)),\n",
    "             'Z': Node('W', None, [('Y',13), ('T',13)], 12, (15,21)),\n",
    "             \n",
    "             'AA': Node('AA', None, [('AE',13)], 12, (16,12)),\n",
    "             'AB': Node('AB', None, [('V',13), ('AC',13)], 12, (16,14)),\n",
    "             'AC': Node('AC', None, [('AB',13), ('AF',13)], 12, (16,15)),\n",
    "             'AD': Node('AD', None, [('X',13), ('AJ',13)], 12, (16,19)),\n",
    "             'AE': Node('AE', None, [('AA',13), ('AM',13)], 12, (17,12)),\n",
    "             'AF': Node('AF', None, [('AO',13), ('AC',13), ('AG',13)], 12, (17,15)),\n",
    "             'AG': Node('AG', None, [('AF',13), ('AH',13)], 12, (17,16)),\n",
    "             'AH': Node('AH', None, [('AG',13), ('AI',13), ('AP',13)], 12, (17,17)),\n",
    "             'AI': Node('AI', None, [('AH',13), ('AG',13), ('AJ',13)], 12, (17,18)),\n",
    "             'AJ': Node('AJ', None, [('AR',13), ('AI',13), ('AK',13), ('AD',13)], 12, (17,19)),\n",
    "             'AK': Node('AK', None, [('AJ',13), ('AL',13)], 12, (17,20)),\n",
    "             'AL': Node('AL', None, [('AK',13)], 12, (17,21)),\n",
    "             'AM': Node('AM', None, [('AS',13), ('AE',13)], 12, (18,12)),\n",
    "             'AN': Node('AN', None, [('AU',13), ('AO',13)], 12, (18,14)),\n",
    "             'AO': Node('AO', None, [('AF',13), ('AN',13)], 12, (18,15)),\n",
    "             'AP': Node('AP', None, [('AW',13), ('AQ',13), ('AH',13)], 12, (18,17)),\n",
    "             'AQ': Node('AQ', None, [('AR',13), ('AP',13), ('AI',13)], 12, (18,18)),\n",
    "             'AR': Node('AR', None, [('AQ',13), ('AJ',13)], 12 ,(18,19)),\n",
    "             'AS': Node('AS', None, [('AT',13), ('AY',13), ('AM',13)], 12, (19,12)),\n",
    "             'AT': Node('AT', None, [('AS',13), ('AZ',13), ('AU',13)], 12, (19,13)),\n",
    "             'AU': Node('AU', None, [('AT',13), ('AN',13)], 12, (19,14)),\n",
    "             'AV': Node('AV', None, [('BB',13), ('AW',13)], 12, (19,16)),\n",
    "             'AW': Node('AW', None, [('AV',13), ('AP',13), ('BC',13)], 12, (19,17)),\n",
    "             'AX': Node('AX', None, [('BD',13)], 12, (19,20)),\n",
    "             'AY': Node('AY', None, [('AZ',13), ('Red',13)], 12, (20,12)),\n",
    "             'AZ': Node('AZ', None, [('AY',13), ('BF',13)], 12, (20,13)),\n",
    "\n",
    "             'BA': Node('BA', None, [('BH',13),('BB',13)], 12, (20,15)),\n",
    "             'BB': Node('BB', None, [('BA',13), ('AV',13),('BC',13)], 12, (20,16)),\n",
    "             'BC': Node('BC', None, [('BB',13), ('AW',13), ('BI',13)], 12, (20,17)),\n",
    "             'BD': Node('BD', None, [('BL',13), ('AX',13),('BE',13)], 12, (20,20)),\n",
    "             'BE': Node('BE', None, [('BD',13), ('BM',13)], 12, (20,21)),\n",
    "             'BF': Node('BF', None, [('Red',13), ('AZ',13), ('G',13)], 12, (21,13)),\n",
    "             'BG': Node('BG', None, [('BF',13),('BH',13)], 12, (21,14)),\n",
    "             'BH': Node('BH', None, [('BG',13), ('BA',13)], 12, (21,15)),\n",
    "             'BI': Node('BI', None, [('BJ',13), ('BC',13)], 12, (21,17)),\n",
    "             'BJ': Node('BJ', None, [('BI',13), ('BK',13)], 12, (21,18)),\n",
    "             'BK': Node('BK', None, [('BJ',13), ('BL',13)], 12, (21,19)),\n",
    "             'BL': Node('BL', None, [('BK',13), ('BM',13)], 12, (21,20)),\n",
    "             'BM': Node('BM', None, [('BL',13), ('BE',13)], 12, (21,21)),\n",
    "\n",
    "             'Red': Node('Red', None, [('AY',13),('BF',13)], 12, (21,12)),\n",
    "             'Green': Node('Green', None, [('M',13)], 12, (12,21))\n",
    "             }\n",
    "    \n",
    "    initialState = 'Green'\n",
    "    goalState = 'Red'\n",
    "    parentNode = initialState\n",
    "    parentCost = math.sqrt((graph[goalState].heuristic[0] - \\\n",
    "                            graph[initialState].heuristic[0])**2 +\\\n",
    "                            (graph[goalState].heuristic[1] - \\\n",
    "                             graph[initialState].heuristic[1])**2)\n",
    "    explored = []\n",
    "    solution = []\n",
    "    minChildCost = parentCost - 1\n",
    "     \n",
    "    while parentNode != goalState:\n",
    "        bestNode = parentNode\n",
    "        minChildCost = parentCost\n",
    "        explored.append(parentNode)\n",
    "        \n",
    "        for child in graph[parentNode].actions:\n",
    "            if child[0] not in explored:\n",
    "                childCost = math.sqrt((graph[goalState].heuristic[0]\\\n",
    "                                       - graph[child[0]].heuristic[0]) **2\\\n",
    "                                       + (graph[goalState].heuristic[1]\\\n",
    "                                       - graph[child[0]].heuristic[1]) **2)\n",
    "                if childCost < minChildCost:\n",
    "                    bestNode = child[0]\n",
    "                    minChildCost = childCost\n",
    "        if bestNode == parentNode:\n",
    "            break\n",
    "        else:\n",
    "            parentNode = bestNode\n",
    "            parentCost = minChildCost\n",
    "            solution.append(parentNode)\n",
    "    return solution\n",
    "\n",
    "sol = HCS()\n",
    "print(sol)\n",
    "\n",
    "    "
   ]
  },
  {
   "cell_type": "markdown",
   "metadata": {
    "id": "LHvSj6FltfeO"
   },
   "source": [
    "> **Activity 1:**\n",
    "\n",
    "For the given graph , imagine node A as starting node and your goal is to reach Y. Apply hill climbing and see how closer you can get to your destination.\n",
    "\n",
    "**Solution:**\n",
    "\n",
    "Instead of maintaining a fringe or a frontier to save the nodes that are to be explored, hill climbing just explores the best child of a given node, then explores the best grandchild of a particular child and so on and so forth."
   ]
  },
  {
   "cell_type": "markdown",
   "metadata": {
    "id": "xbpx6Xe_uetF"
   },
   "source": [
    "![s.png](data:image/png;base64,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)"
   ]
  },
  {
   "cell_type": "code",
   "execution_count": null,
   "metadata": {
    "colab": {
     "base_uri": "https://localhost:8080/"
    },
    "id": "Py1Pks7xugET",
    "outputId": "2ffce65c-6674-4f7d-bfa3-f1750b86792b"
   },
   "outputs": [
    {
     "name": "stdout",
     "output_type": "stream",
     "text": [
      "['F', 'H', 'I', 'J']\n"
     ]
    }
   ],
   "source": [
    "# Hill Climbing Search\n",
    "\n",
    "import math\n",
    "\n",
    "class Node:\n",
    "    def __init__(self, state, parent, actions, totalCost, heuristic):\n",
    "        self.state = state\n",
    "        self.parent = parent\n",
    "        self.actions = actions\n",
    "        self.totalCost = totalCost\n",
    "        self.heuristic = heuristic\n",
    "        \n",
    "        \n",
    "def HCS():\n",
    "    graph = {'A': Node('A', None, [('F',1)], 0, (0,0)),\n",
    "             'B': Node('B', None, [('G',1), ('C',1)], 0, (2,0)),\n",
    "             'C': Node('C', None, [('B',1), ('D',1)], 0, (3,0)),\n",
    "             'D': Node('D', None, [('C',1), ('E',1)], 0, (4,0)),\n",
    "             'E': Node('E', None, [('D',1)], 0, (5,0)),\n",
    "             'F': Node('F', None, [('A',1), ('H',1)], 0, (0,1)),\n",
    "             'G': Node('G', None, [('B',1), ('J',1)], 0, (2,1)),\n",
    "             'H': Node('H', None, [('F',1), ('I',1), ('M',1)], 0, (0,2)),\n",
    "             'I': Node('I', None, [('H',1), ('J',1), ('N',1)], 0, (1,2)),\n",
    "             'J': Node('J', None, [('G',1), ('I',1)], 0, (2,2)),\n",
    "             'K': Node('K', None, [('L',1), ('P',1)], 0, (4,2)),\n",
    "             'L': Node('L', None, [('K',1), ('Q',1)], 0, (5,2)),\n",
    "             'M': Node('M', None, [('H',1), ('N',1), ('R',1)], 0, (0,3)),\n",
    "             'N': Node('N', None, [('I',1), ('M',1), ('S',1)], 0, (1,3)),\n",
    "             'O': Node('O', None, [('P',1), ('U',1)], 0, (3,3)),\n",
    "             'P': Node('P', None, [('O',1), ('Q',1)], 0, (4,3)),\n",
    "             'Q': Node('Q', None, [('L',1), ('P',1), ('V',1)], 0, (5,3)),\n",
    "             'R': Node('R', None, [('M',1), ('S',1)], 0 ,(0,4)),\n",
    "             'S': Node('S', None, [('N',1), ('R',1), ('T',1)], 0, (1,4)),\n",
    "             'T': Node('T', None, [('S',1), ('U',1), ('W',1)], 0, (2,4)),\n",
    "             'U': Node('U', None, [('O',1), ('T',1)], 0, (3,4)),\n",
    "             'V': Node('V', None, [('Q',1), ('Y',1)], 0, (5,4)),\n",
    "             'W': Node('W', None, [('T',1)], 0, (2,5)),\n",
    "             'X': Node('X', None, [('Y',1)], 0, (4,5)),\n",
    "             'Y': Node('Y', None, [('V',1), ('X',1)], 0, (5,5))}\n",
    "    \n",
    "    initialState = 'A'\n",
    "    goalState = 'Y'\n",
    "    parentNode = initialState\n",
    "    parentCost = math.sqrt((graph[goalState].heuristic[0] - \\\n",
    "                            graph[initialState].heuristic[0])**2 +\\\n",
    "                            (graph[goalState].heuristic[1] - \\\n",
    "                             graph[initialState].heuristic[1])**2)\n",
    "    explored = []\n",
    "    solution = []\n",
    "    minChildCost = parentCost - 1\n",
    "    \n",
    "    while parentNode != goalState:\n",
    "        bestNode = parentNode\n",
    "        minChildCost = parentCost\n",
    "        explored.append(parentNode)\n",
    "        \n",
    "        for child in graph[parentNode].actions:\n",
    "            if child[0] not in explored:\n",
    "                childCost = math.sqrt((graph[goalState].heuristic[0]\\\n",
    "                                       - graph[child[0]].heuristic[0]) **2\\\n",
    "                                       + (graph[goalState].heuristic[1]\\\n",
    "                                       - graph[child[0]].heuristic[1]) **2)\n",
    "                if childCost < minChildCost:\n",
    "                    bestNode = child[0]\n",
    "                    minChildCost = childCost\n",
    "        if bestNode == parentNode:\n",
    "            break\n",
    "        else:\n",
    "            parentNode = bestNode\n",
    "            parentCost = minChildCost\n",
    "            solution.append(parentNode)\n",
    "    return solution\n",
    "\n",
    "sol = HCS()\n",
    "print(sol)\n",
    "\n",
    "    "
   ]
  }
 ],
 "metadata": {
  "colab": {
   "include_colab_link": true,
   "provenance": []
  },
  "kernelspec": {
   "display_name": "Python 3 (ipykernel)",
   "language": "python",
   "name": "python3"
  },
  "language_info": {
   "codemirror_mode": {
    "name": "ipython",
    "version": 3
   },
   "file_extension": ".py",
   "mimetype": "text/x-python",
   "name": "python",
   "nbconvert_exporter": "python",
   "pygments_lexer": "ipython3",
   "version": "3.9.7"
  }
 },
 "nbformat": 4,
 "nbformat_minor": 1
}
